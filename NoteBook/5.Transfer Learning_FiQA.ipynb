{
 "cells": [
  {
   "cell_type": "code",
   "execution_count": 1,
   "id": "b983b70d",
   "metadata": {},
   "outputs": [],
   "source": [
    "import pandas as pd\n",
    "df_fiqa = pd.read_csv(\"df_fiqa.csv\", index_col = 0)"
   ]
  },
  {
   "cell_type": "markdown",
   "id": "ff74a178",
   "metadata": {},
   "source": [
    "# Convert to Glove numeric vector (6B-300d) and perform padding"
   ]
  },
  {
   "cell_type": "code",
   "execution_count": 2,
   "id": "15dcfb4d",
   "metadata": {},
   "outputs": [],
   "source": [
    "def read_glove_vecs(glove_file):\n",
    "    '''\n",
    "    This function is to create 3 Dictionaries that can interact with the glove pre-trained weightings\n",
    "    Input:\n",
    "        glove_file: the directory of the pre-trained file\n",
    "    Output:\n",
    "        words_to_index: A directory that can use words as name and return back the index\n",
    "        index_to_words: A directory that can use index as name and return back the words\n",
    "        word_to_vec_map: A directory that can use words as name and directly return the Vector mapping\n",
    "    '''\n",
    "    with open(glove_file, 'r', encoding=\"utf-8\") as f:\n",
    "        words = set()\n",
    "        word_to_vec_map = {}\n",
    "        for line in f:\n",
    "            line = line.strip().split()\n",
    "            curr_word = line[0]\n",
    "            words.add(curr_word)\n",
    "            word_to_vec_map[curr_word] = np.array(line[1:], dtype=np.float64)\n",
    "        \n",
    "        i = 1\n",
    "        words_to_index = {}\n",
    "        index_to_words = {}\n",
    "        for w in sorted(words):\n",
    "            words_to_index[w] = i\n",
    "            index_to_words[i] = w\n",
    "            i = i + 1\n",
    "    return words_to_index, index_to_words, word_to_vec_map\n",
    "\n",
    "def sentences_to_indices(X, word_to_index, Tx):\n",
    "    \"\"\"\n",
    "    This function is to converts an array of sentences into an array of indices corresponding to words in the sentences.\n",
    "    The output shape should match with the embedding dimension.\n",
    "    \n",
    "    Input:\n",
    "        X: array of sentences (strings), of shape (m, 1), i.e. m samples.\n",
    "        word_to_index: a dictionary called for converting word into index\n",
    "        Tx: maximum number of words in a sentence. Sentences exceeds this number will be cut \n",
    "    \n",
    "    Returns:\n",
    "    X_indices: array of indices corresponding to words in the sentences from X, of shape (m, Tx)\n",
    "    \"\"\"\n",
    "    \n",
    "    m = X.shape[0] # number of data in the dataset\n",
    "    \n",
    "    # Initialize X_indices as a numpy matrix of zeros and the correct shape \n",
    "    X_indices = np.zeros((m, Tx))\n",
    "    \n",
    "    for i in range(m):\n",
    "        sentence_words = X[i].split() #split sentence into a list of word\n",
    "        sentence_words = sentence_words[0:Tx] # Cut all Words Once it search the maximun lenght Tx\n",
    "        \n",
    "        j = 0 # initialize the counter of word in every sentence\n",
    "        \n",
    "        for w in sentence_words: # convert word into index and input in the (i,j) elements of X_indices\n",
    "            try: # try to see if the word is in the glove corpus\n",
    "                X_indices[i, j] = word_to_index[w]\n",
    "                j = j+1\n",
    "            except: #if not, skip it and left that (i,j) elements as 0\n",
    "                j = j+1\n",
    "    \n",
    "    return X_indices\n",
    "\n",
    "def convert_to_one_hot(Y, C):\n",
    "    Y = np.eye(C)[Y.astype(int)]\n",
    "    return Y\n",
    "\n"
   ]
  },
  {
   "cell_type": "code",
   "execution_count": 3,
   "id": "90c2a1cf",
   "metadata": {},
   "outputs": [],
   "source": [
    "import numpy as np\n",
    "glove_file = \"./Raw data/glove.6B.300d.txt\"\n",
    "\n",
    "word_to_index, index_to_word, word_to_vec_map = read_glove_vecs(glove_file)\n",
    "\n",
    "from sklearn.model_selection import train_test_split\n",
    "\n",
    "X_train_fiqa, X_test_fiqa, y_train_fiqa, y_test_fiqa = train_test_split(df_fiqa.text, df_fiqa.label, test_size = 0.2, random_state=234)\n",
    "\n",
    "X_train_fiqa_text = X_train_fiqa.to_numpy()\n",
    "X_train_fiqa_indixes = sentences_to_indices(X_train_fiqa_text, word_to_index, Tx = 50)  \n",
    "\n",
    "X_test_fiqa_text = X_test_fiqa.to_numpy()\n",
    "X_test_fiqa_indixes = sentences_to_indices(X_test_fiqa_text, word_to_index, Tx = 50)  \n",
    "\n",
    "y_train_fiqa = y_train_fiqa.to_numpy()\n",
    "y_test_fiqa = y_test_fiqa.to_numpy()\n"
   ]
  },
  {
   "cell_type": "code",
   "execution_count": 5,
   "id": "2e3c0ae5",
   "metadata": {},
   "outputs": [],
   "source": [
    "import keras \n",
    "from keras.layers.embeddings import Embedding\n",
    "from keras import callbacks\n",
    "from keras.optimizers import Adam\n",
    "from keras.models import Model\n",
    "from keras.layers import Dense, Input, SimpleRNN, Bidirectional, Dropout, BatchNormalization, LSTM\n",
    "from matplotlib import pyplot as plt"
   ]
  },
  {
   "cell_type": "code",
   "execution_count": 6,
   "id": "f2972886",
   "metadata": {},
   "outputs": [],
   "source": [
    "def pretrained_embedding_layer(word_to_vec_map, word_to_index):\n",
    "    \n",
    "    vocab_len = len(word_to_index) + 1    # adding 1 to fit Keras embedding, special requirement for using Keras\n",
    "    emb_dim = word_to_vec_map[\"apple\"].shape[0]      # get dimensionality pre-trained embedding\n",
    "    \n",
    "    # Initialize the embedding matrix \n",
    "    emb_matrix = np.zeros((vocab_len, emb_dim))\n",
    "    \n",
    "    # for every word, idx pair in word_to_index dictionary, map it to its vector representation  \n",
    "    # and store in the emb matrix\n",
    "    for word, idx in word_to_index.items():\n",
    "        emb_matrix[idx, :] = word_to_vec_map[word]\n",
    "\n",
    "    # Define Keras embedding layer and set it non-trainable.\n",
    "    embedding_layer = Embedding(vocab_len, emb_dim, trainable = False)\n",
    "\n",
    "    # Build the embedding layer instance\n",
    "    embedding_layer.build((None,)) # None is used for \"Dont know how many data, m samples, will be pass through\"\n",
    "    \n",
    "    # Set the weights of the embedding layer to the embedding matrix\n",
    "    embedding_layer.set_weights([emb_matrix])\n",
    "    \n",
    "    return embedding_layer\n",
    "\n",
    "embedding_layer = pretrained_embedding_layer(word_to_vec_map, word_to_index)"
   ]
  },
  {
   "cell_type": "code",
   "execution_count": 7,
   "id": "1f6c6224",
   "metadata": {},
   "outputs": [],
   "source": [
    "def transfer_model(source_model):\n",
    "    \n",
    "    inputs = source_model.layers[0].input\n",
    "\n",
    "    # Propagate X through a Dense layer into 2 units\n",
    "    X = Dense(1, activation = \"tanh\")(source_model.layers[-2].output)\n",
    "    \n",
    "    # Create Model instance which converts sentence_indices into X.\n",
    "    model = Model(inputs = inputs, outputs = X)\n",
    "    \n",
    "    return model"
   ]
  },
  {
   "cell_type": "markdown",
   "id": "f9cf6210",
   "metadata": {},
   "source": [
    "# RNN model - FiQA - Fine Tuning Only"
   ]
  },
  {
   "cell_type": "code",
   "execution_count": 16,
   "id": "7f35424e",
   "metadata": {},
   "outputs": [
    {
     "name": "stdout",
     "output_type": "stream",
     "text": [
      "Model: \"functional_3\"\n",
      "_________________________________________________________________\n",
      "Layer (type)                 Output Shape              Param #   \n",
      "=================================================================\n",
      "input_1 (InputLayer)         [(None, 50)]              0         \n",
      "_________________________________________________________________\n",
      "embedding_1 (Embedding)      (None, 50, 300)           120000300 \n",
      "_________________________________________________________________\n",
      "bidirectional (Bidirectional (None, 128)               46720     \n",
      "_________________________________________________________________\n",
      "dense_1 (Dense)              (None, 1)                 129       \n",
      "=================================================================\n",
      "Total params: 120,047,149\n",
      "Trainable params: 129\n",
      "Non-trainable params: 120,047,020\n",
      "_________________________________________________________________\n"
     ]
    }
   ],
   "source": [
    "model = keras.models.load_model(\"./Model_callback/models/1L-RNN-64\")\n",
    "model2 = transfer_model(model)\n",
    "model2.layers[1].trainable = False\n",
    "model2.layers[2].trainable = False\n",
    "model2.summary()"
   ]
  },
  {
   "cell_type": "code",
   "execution_count": 17,
   "id": "43d137cf",
   "metadata": {},
   "outputs": [
    {
     "name": "stdout",
     "output_type": "stream",
     "text": [
      "Epoch 1/50\n",
      "20/21 [===========================>..] - ETA: 0s - loss: 0.3479INFO:tensorflow:Assets written to: ./Model_callback/models/fiqa_ft_1L-RNN-64/assets\n",
      "21/21 [==============================] - 7s 333ms/step - loss: 0.3466 - val_loss: 0.2536\n",
      "Epoch 2/50\n",
      "21/21 [==============================] - ETA: 0s - loss: 0.2928INFO:tensorflow:Assets written to: ./Model_callback/models/fiqa_ft_1L-RNN-64/assets\n",
      "21/21 [==============================] - 7s 312ms/step - loss: 0.2928 - val_loss: 0.2349\n",
      "Epoch 3/50\n",
      "21/21 [==============================] - ETA: 0s - loss: 0.2583INFO:tensorflow:Assets written to: ./Model_callback/models/fiqa_ft_1L-RNN-64/assets\n",
      "21/21 [==============================] - 7s 350ms/step - loss: 0.2583 - val_loss: 0.2190\n",
      "Epoch 4/50\n",
      "20/21 [===========================>..] - ETA: 0s - loss: 0.2369INFO:tensorflow:Assets written to: ./Model_callback/models/fiqa_ft_1L-RNN-64/assets\n",
      "21/21 [==============================] - 7s 326ms/step - loss: 0.2350 - val_loss: 0.2094\n",
      "Epoch 5/50\n",
      "20/21 [===========================>..] - ETA: 0s - loss: 0.2249INFO:tensorflow:Assets written to: ./Model_callback/models/fiqa_ft_1L-RNN-64/assets\n",
      "21/21 [==============================] - 7s 319ms/step - loss: 0.2208 - val_loss: 0.1965\n",
      "Epoch 6/50\n",
      "19/21 [==========================>...] - ETA: 0s - loss: 0.2060INFO:tensorflow:Assets written to: ./Model_callback/models/fiqa_ft_1L-RNN-64/assets\n",
      "21/21 [==============================] - 7s 332ms/step - loss: 0.2038 - val_loss: 0.1909\n",
      "Epoch 7/50\n",
      "21/21 [==============================] - ETA: 0s - loss: 0.1905INFO:tensorflow:Assets written to: ./Model_callback/models/fiqa_ft_1L-RNN-64/assets\n",
      "21/21 [==============================] - 7s 320ms/step - loss: 0.1905 - val_loss: 0.1846\n",
      "Epoch 8/50\n",
      "19/21 [==========================>...] - ETA: 0s - loss: 0.1841INFO:tensorflow:Assets written to: ./Model_callback/models/fiqa_ft_1L-RNN-64/assets\n",
      "21/21 [==============================] - 7s 345ms/step - loss: 0.1826 - val_loss: 0.1817\n",
      "Epoch 9/50\n",
      "20/21 [===========================>..] - ETA: 0s - loss: 0.1781INFO:tensorflow:Assets written to: ./Model_callback/models/fiqa_ft_1L-RNN-64/assets\n",
      "21/21 [==============================] - 6s 303ms/step - loss: 0.1786 - val_loss: 0.1800\n",
      "Epoch 10/50\n",
      "21/21 [==============================] - ETA: 0s - loss: 0.1664INFO:tensorflow:Assets written to: ./Model_callback/models/fiqa_ft_1L-RNN-64/assets\n",
      "21/21 [==============================] - 7s 331ms/step - loss: 0.1664 - val_loss: 0.1723\n",
      "Epoch 11/50\n",
      "19/21 [==========================>...] - ETA: 0s - loss: 0.1648INFO:tensorflow:Assets written to: ./Model_callback/models/fiqa_ft_1L-RNN-64/assets\n",
      "21/21 [==============================] - 6s 305ms/step - loss: 0.1627 - val_loss: 0.1705\n",
      "Epoch 12/50\n",
      "21/21 [==============================] - ETA: 0s - loss: 0.1599INFO:tensorflow:Assets written to: ./Model_callback/models/fiqa_ft_1L-RNN-64/assets\n",
      "21/21 [==============================] - 7s 345ms/step - loss: 0.1599 - val_loss: 0.1653\n",
      "Epoch 13/50\n",
      "21/21 [==============================] - 1s 25ms/step - loss: 0.1551 - val_loss: 0.1682\n",
      "Epoch 14/50\n",
      "21/21 [==============================] - 1s 26ms/step - loss: 0.1507 - val_loss: 0.1670\n",
      "Epoch 15/50\n",
      "19/21 [==========================>...] - ETA: 0s - loss: 0.1487INFO:tensorflow:Assets written to: ./Model_callback/models/fiqa_ft_1L-RNN-64/assets\n",
      "21/21 [==============================] - 6s 309ms/step - loss: 0.1493 - val_loss: 0.1585\n",
      "Epoch 16/50\n",
      "19/21 [==========================>...] - ETA: 0s - loss: 0.1469INFO:tensorflow:Assets written to: ./Model_callback/models/fiqa_ft_1L-RNN-64/assets\n",
      "21/21 [==============================] - 7s 337ms/step - loss: 0.1459 - val_loss: 0.1583\n",
      "Epoch 17/50\n",
      "19/21 [==========================>...] - ETA: 0s - loss: 0.1465INFO:tensorflow:Assets written to: ./Model_callback/models/fiqa_ft_1L-RNN-64/assets\n",
      "21/21 [==============================] - 7s 328ms/step - loss: 0.1457 - val_loss: 0.1563\n",
      "Epoch 18/50\n",
      "21/21 [==============================] - ETA: 0s - loss: 0.1431INFO:tensorflow:Assets written to: ./Model_callback/models/fiqa_ft_1L-RNN-64/assets\n",
      "21/21 [==============================] - 7s 318ms/step - loss: 0.1431 - val_loss: 0.1556\n",
      "Epoch 19/50\n",
      "21/21 [==============================] - 1s 26ms/step - loss: 0.1415 - val_loss: 0.1567\n",
      "Epoch 20/50\n",
      "20/21 [===========================>..] - ETA: 0s - loss: 0.1391INFO:tensorflow:Assets written to: ./Model_callback/models/fiqa_ft_1L-RNN-64/assets\n",
      "21/21 [==============================] - 7s 355ms/step - loss: 0.1419 - val_loss: 0.1528\n",
      "Epoch 21/50\n",
      "21/21 [==============================] - 1s 25ms/step - loss: 0.1420 - val_loss: 0.1585\n",
      "Epoch 22/50\n",
      "19/21 [==========================>...] - ETA: 0s - loss: 0.1412INFO:tensorflow:Assets written to: ./Model_callback/models/fiqa_ft_1L-RNN-64/assets\n",
      "21/21 [==============================] - 7s 324ms/step - loss: 0.1377 - val_loss: 0.1527\n",
      "Epoch 23/50\n",
      "20/21 [===========================>..] - ETA: 0s - loss: 0.1379INFO:tensorflow:Assets written to: ./Model_callback/models/fiqa_ft_1L-RNN-64/assets\n",
      "21/21 [==============================] - 7s 334ms/step - loss: 0.1381 - val_loss: 0.1467\n",
      "Epoch 24/50\n",
      "21/21 [==============================] - 1s 25ms/step - loss: 0.1429 - val_loss: 0.1530\n",
      "Epoch 25/50\n",
      "21/21 [==============================] - 1s 24ms/step - loss: 0.1385 - val_loss: 0.1481\n",
      "Epoch 26/50\n",
      "21/21 [==============================] - 1s 25ms/step - loss: 0.1361 - val_loss: 0.1487\n",
      "Epoch 27/50\n",
      "20/21 [===========================>..] - ETA: 0s - loss: 0.1330INFO:tensorflow:Assets written to: ./Model_callback/models/fiqa_ft_1L-RNN-64/assets\n",
      "21/21 [==============================] - 7s 311ms/step - loss: 0.1338 - val_loss: 0.1461\n",
      "Epoch 28/50\n",
      "21/21 [==============================] - 1s 27ms/step - loss: 0.1348 - val_loss: 0.1471\n",
      "Epoch 29/50\n",
      "21/21 [==============================] - 1s 29ms/step - loss: 0.1315 - val_loss: 0.1462\n",
      "Epoch 30/50\n",
      "21/21 [==============================] - 1s 25ms/step - loss: 0.1326 - val_loss: 0.1483\n",
      "Epoch 31/50\n",
      "21/21 [==============================] - 1s 26ms/step - loss: 0.1318 - val_loss: 0.1477\n",
      "Epoch 32/50\n",
      "21/21 [==============================] - ETA: 0s - loss: 0.1323INFO:tensorflow:Assets written to: ./Model_callback/models/fiqa_ft_1L-RNN-64/assets\n",
      "21/21 [==============================] - 7s 350ms/step - loss: 0.1323 - val_loss: 0.1437\n",
      "Epoch 33/50\n",
      "20/21 [===========================>..] - ETA: 0s - loss: 0.1289INFO:tensorflow:Assets written to: ./Model_callback/models/fiqa_ft_1L-RNN-64/assets\n",
      "21/21 [==============================] - 6s 307ms/step - loss: 0.1307 - val_loss: 0.1430\n",
      "Epoch 34/50\n",
      "21/21 [==============================] - 1s 26ms/step - loss: 0.1310 - val_loss: 0.1483\n",
      "Epoch 35/50\n",
      "21/21 [==============================] - 1s 27ms/step - loss: 0.1328 - val_loss: 0.1465\n",
      "Epoch 36/50\n",
      "21/21 [==============================] - 1s 25ms/step - loss: 0.1298 - val_loss: 0.1456\n",
      "Epoch 37/50\n",
      "21/21 [==============================] - 1s 26ms/step - loss: 0.1291 - val_loss: 0.1451\n",
      "Epoch 38/50\n",
      "21/21 [==============================] - 1s 26ms/step - loss: 0.1329 - val_loss: 0.1458\n"
     ]
    }
   ],
   "source": [
    "my_callbacks = [callbacks.ModelCheckpoint(filepath=\"./Model_callback/models/fiqa_ft_1L-RNN-64\",\n",
    "                                          monitor='val_loss',\n",
    "                                          mode='auto',\n",
    "                                          save_best_only= True),\n",
    "                callbacks.CSVLogger(\"./Model_callback/logger/fiqa_ft_1L-RNN-64\"), \n",
    "                callbacks.EarlyStopping(monitor=\"val_loss\",patience=5)]\n",
    "\n",
    "opt = Adam(learning_rate = 0.002) \n",
    "model2.compile(loss='mean_squared_error', optimizer = opt)\n",
    "history_fiqa_ft_1L_RNN_64 = model2.fit(X_train_fiqa_indixes, y_train_fiqa, epochs = 50, batch_size = 32, \n",
    "                                             validation_split =  1/4, shuffle=True, callbacks=my_callbacks)"
   ]
  },
  {
   "cell_type": "code",
   "execution_count": 19,
   "id": "f3184675",
   "metadata": {},
   "outputs": [
    {
     "data": {
      "image/png": "[encoded data removed]",
      "text/plain": [
       "<Figure size 432x288 with 1 Axes>"
      ]
     },
     "metadata": {
      "needs_background": "light"
     },
     "output_type": "display_data"
    }
   ],
   "source": [
    "plt.plot(history_fiqa_ft_1L_RNN_64.history['loss'])\n",
    "plt.plot(history_fiqa_ft_1L_RNN_64.history['val_loss'])\n",
    "plt.title('fiqa_ft_1L_RNN_64 validation loss')\n",
    "plt.ylabel('loss')\n",
    "plt.xlabel('epoch')\n",
    "plt.legend(['loss', 'val_loss'], loc='upper right')\n",
    "plt.show()"
   ]
  },
  {
   "cell_type": "code",
   "execution_count": 20,
   "id": "d03bda97",
   "metadata": {},
   "outputs": [
    {
     "name": "stdout",
     "output_type": "stream",
     "text": [
      "28/28 [==============================] - 0s 7ms/step - loss: 0.1356\n",
      "\n",
      "Mean Squared Error on train set =  0.1355602741241455\n",
      "7/7 [==============================] - 0s 7ms/step - loss: 0.1549\n",
      "\n",
      "Mean Squared Error on test set =  0.1549316644668579\n"
     ]
    }
   ],
   "source": [
    "loss = model2.evaluate(X_train_fiqa_indixes, y_train_fiqa)\n",
    "print()\n",
    "print(\"Mean Squared Error on train set = \", loss)\n",
    "\n",
    "loss = model2.evaluate(X_test_fiqa_indixes, y_test_fiqa)\n",
    "print()\n",
    "print(\"Mean Squared Error on test set = \", loss)"
   ]
  },
  {
   "cell_type": "markdown",
   "id": "aa6ece05",
   "metadata": {},
   "source": [
    "# RNN model - FiQA- Transfer As Initial"
   ]
  },
  {
   "cell_type": "code",
   "execution_count": 21,
   "id": "af05a3a4",
   "metadata": {},
   "outputs": [
    {
     "name": "stdout",
     "output_type": "stream",
     "text": [
      "Model: \"functional_5\"\n",
      "_________________________________________________________________\n",
      "Layer (type)                 Output Shape              Param #   \n",
      "=================================================================\n",
      "input_1 (InputLayer)         [(None, 50)]              0         \n",
      "_________________________________________________________________\n",
      "embedding_1 (Embedding)      (None, 50, 300)           120000300 \n",
      "_________________________________________________________________\n",
      "bidirectional (Bidirectional (None, 128)               46720     \n",
      "_________________________________________________________________\n",
      "dense_2 (Dense)              (None, 1)                 129       \n",
      "=================================================================\n",
      "Total params: 120,047,149\n",
      "Trainable params: 46,849\n",
      "Non-trainable params: 120,000,300\n",
      "_________________________________________________________________\n"
     ]
    }
   ],
   "source": [
    "model = keras.models.load_model(\"./Model_callback/models/1L-RNN-64\")\n",
    "model2 = transfer_model(model)\n",
    "model2.layers[1].trainable = False\n",
    "model2.summary()"
   ]
  },
  {
   "cell_type": "code",
   "execution_count": 22,
   "id": "a6fd429a",
   "metadata": {},
   "outputs": [
    {
     "name": "stdout",
     "output_type": "stream",
     "text": [
      "Epoch 1/50\n",
      "21/21 [==============================] - ETA: 0s - loss: 0.2830INFO:tensorflow:Assets written to: ./Model_callback/models/fiqa_1L-RNN-64/assets\n",
      "21/21 [==============================] - 7s 354ms/step - loss: 0.2830 - val_loss: 0.2127\n",
      "Epoch 2/50\n",
      "20/21 [===========================>..] - ETA: 0s - loss: 0.1747INFO:tensorflow:Assets written to: ./Model_callback/models/fiqa_1L-RNN-64/assets\n",
      "21/21 [==============================] - 7s 352ms/step - loss: 0.1723 - val_loss: 0.1877\n",
      "Epoch 3/50\n",
      "21/21 [==============================] - ETA: 0s - loss: 0.1304INFO:tensorflow:Assets written to: ./Model_callback/models/fiqa_1L-RNN-64/assets\n",
      "21/21 [==============================] - 7s 333ms/step - loss: 0.1304 - val_loss: 0.1749\n",
      "Epoch 4/50\n",
      "20/21 [===========================>..] - ETA: 0s - loss: 0.1056INFO:tensorflow:Assets written to: ./Model_callback/models/fiqa_1L-RNN-64/assets\n",
      "21/21 [==============================] - 8s 371ms/step - loss: 0.1048 - val_loss: 0.1686\n",
      "Epoch 5/50\n",
      "21/21 [==============================] - ETA: 0s - loss: 0.0873INFO:tensorflow:Assets written to: ./Model_callback/models/fiqa_1L-RNN-64/assets\n",
      "21/21 [==============================] - 7s 330ms/step - loss: 0.0873 - val_loss: 0.1673\n",
      "Epoch 6/50\n",
      "21/21 [==============================] - 1s 46ms/step - loss: 0.0706 - val_loss: 0.1680\n",
      "Epoch 7/50\n",
      "21/21 [==============================] - 1s 44ms/step - loss: 0.0660 - val_loss: 0.1748\n",
      "Epoch 8/50\n",
      "21/21 [==============================] - 1s 43ms/step - loss: 0.0566 - val_loss: 0.1686\n",
      "Epoch 9/50\n",
      "20/21 [===========================>..] - ETA: 0s - loss: 0.0446INFO:tensorflow:Assets written to: ./Model_callback/models/fiqa_1L-RNN-64/assets\n",
      "21/21 [==============================] - 8s 372ms/step - loss: 0.0445 - val_loss: 0.1656\n",
      "Epoch 10/50\n",
      "21/21 [==============================] - ETA: 0s - loss: 0.0427INFO:tensorflow:Assets written to: ./Model_callback/models/fiqa_1L-RNN-64/assets\n",
      "21/21 [==============================] - 7s 328ms/step - loss: 0.0427 - val_loss: 0.1552\n",
      "Epoch 11/50\n",
      "21/21 [==============================] - 1s 44ms/step - loss: 0.0328 - val_loss: 0.1606\n",
      "Epoch 12/50\n",
      "21/21 [==============================] - 1s 43ms/step - loss: 0.0272 - val_loss: 0.1582\n",
      "Epoch 13/50\n",
      "21/21 [==============================] - 1s 44ms/step - loss: 0.0232 - val_loss: 0.1558\n",
      "Epoch 14/50\n",
      "21/21 [==============================] - 1s 46ms/step - loss: 0.0216 - val_loss: 0.1595\n",
      "Epoch 15/50\n",
      "20/21 [===========================>..] - ETA: 0s - loss: 0.0167INFO:tensorflow:Assets written to: ./Model_callback/models/fiqa_1L-RNN-64/assets\n",
      "21/21 [==============================] - 8s 376ms/step - loss: 0.0185 - val_loss: 0.1548\n",
      "Epoch 16/50\n",
      "21/21 [==============================] - 1s 45ms/step - loss: 0.0154 - val_loss: 0.1565\n",
      "Epoch 17/50\n",
      "21/21 [==============================] - 1s 43ms/step - loss: 0.0148 - val_loss: 0.1562\n",
      "Epoch 18/50\n",
      "20/21 [===========================>..] - ETA: 0s - loss: 0.0118INFO:tensorflow:Assets written to: ./Model_callback/models/fiqa_1L-RNN-64/assets\n",
      "21/21 [==============================] - 7s 330ms/step - loss: 0.0115 - val_loss: 0.1538\n",
      "Epoch 19/50\n",
      "21/21 [==============================] - 1s 44ms/step - loss: 0.0103 - val_loss: 0.1557\n",
      "Epoch 20/50\n",
      "21/21 [==============================] - 1s 44ms/step - loss: 0.0097 - val_loss: 0.1593\n",
      "Epoch 21/50\n",
      "21/21 [==============================] - ETA: 0s - loss: 0.0079INFO:tensorflow:Assets written to: ./Model_callback/models/fiqa_1L-RNN-64/assets\n",
      "21/21 [==============================] - 7s 355ms/step - loss: 0.0079 - val_loss: 0.1536\n",
      "Epoch 22/50\n",
      "21/21 [==============================] - 1s 43ms/step - loss: 0.0075 - val_loss: 0.1566\n",
      "Epoch 23/50\n",
      "21/21 [==============================] - 1s 41ms/step - loss: 0.0076 - val_loss: 0.1599\n",
      "Epoch 24/50\n",
      "21/21 [==============================] - 1s 44ms/step - loss: 0.0058 - val_loss: 0.1613\n",
      "Epoch 25/50\n",
      "21/21 [==============================] - 1s 44ms/step - loss: 0.0057 - val_loss: 0.1559\n",
      "Epoch 26/50\n",
      "21/21 [==============================] - 1s 44ms/step - loss: 0.0059 - val_loss: 0.1585\n"
     ]
    }
   ],
   "source": [
    "my_callbacks = [callbacks.ModelCheckpoint(filepath=\"./Model_callback/models/fiqa_1L-RNN-64\",\n",
    "                                          monitor='val_loss',\n",
    "                                          mode='auto',\n",
    "                                          save_best_only= True),\n",
    "                callbacks.CSVLogger(\"./Model_callback/logger/fiqa_1L-RNN-64\"), \n",
    "                callbacks.EarlyStopping(monitor=\"val_loss\",patience=5)]\n",
    "\n",
    "opt = Adam() \n",
    "model2.compile(loss='mean_squared_error', optimizer = opt)\n",
    "history_fiqa_1L_RNN_64 = model2.fit(X_train_fiqa_indixes, y_train_fiqa, epochs = 50, batch_size = 32, \n",
    "                                             validation_split =  1/4, shuffle=True, callbacks=my_callbacks)"
   ]
  },
  {
   "cell_type": "code",
   "execution_count": 23,
   "id": "8897e495",
   "metadata": {},
   "outputs": [
    {
     "data": {
      "image/png": "[encoded data removed]",
      "text/plain": [
       "<Figure size 432x288 with 1 Axes>"
      ]
     },
     "metadata": {
      "needs_background": "light"
     },
     "output_type": "display_data"
    }
   ],
   "source": [
    "plt.plot(history_fiqa_1L_RNN_64.history['loss'])\n",
    "plt.plot(history_fiqa_1L_RNN_64.history['val_loss'])\n",
    "plt.title('fiqa_1L_RNN_64 validation loss')\n",
    "plt.ylabel('loss')\n",
    "plt.xlabel('epoch')\n",
    "plt.legend(['loss', 'val_loss'], loc='upper right')\n",
    "plt.show()"
   ]
  },
  {
   "cell_type": "code",
   "execution_count": 24,
   "id": "8b819a82",
   "metadata": {},
   "outputs": [
    {
     "name": "stdout",
     "output_type": "stream",
     "text": [
      "28/28 [==============================] - 0s 8ms/step - loss: 0.0429\n",
      "\n",
      "Mean Squared Error on train set =  0.0428551584482193\n",
      "7/7 [==============================] - 0s 7ms/step - loss: 0.2013\n",
      "\n",
      "Mean Squared Error on test set =  0.20133541524410248\n"
     ]
    }
   ],
   "source": [
    "loss = model2.evaluate(X_train_fiqa_indixes, y_train_fiqa)\n",
    "print()\n",
    "print(\"Mean Squared Error on train set = \", loss)\n",
    "\n",
    "loss = model2.evaluate(X_test_fiqa_indixes, y_test_fiqa)\n",
    "print()\n",
    "print(\"Mean Squared Error on test set = \", loss)"
   ]
  },
  {
   "cell_type": "markdown",
   "id": "115073ef",
   "metadata": {},
   "source": [
    "# LSTM model - FiQA - Fine Tuning Only"
   ]
  },
  {
   "cell_type": "code",
   "execution_count": 25,
   "id": "0b6a5419",
   "metadata": {},
   "outputs": [
    {
     "name": "stdout",
     "output_type": "stream",
     "text": [
      "Model: \"functional_7\"\n",
      "_________________________________________________________________\n",
      "Layer (type)                 Output Shape              Param #   \n",
      "=================================================================\n",
      "input_2 (InputLayer)         [(None, 50)]              0         \n",
      "_________________________________________________________________\n",
      "embedding_2 (Embedding)      (None, 50, 300)           120000300 \n",
      "_________________________________________________________________\n",
      "bidirectional_1 (Bidirection (None, 256)               439296    \n",
      "_________________________________________________________________\n",
      "dense_3 (Dense)              (None, 1)                 257       \n",
      "=================================================================\n",
      "Total params: 120,439,853\n",
      "Trainable params: 257\n",
      "Non-trainable params: 120,439,596\n",
      "_________________________________________________________________\n"
     ]
    }
   ],
   "source": [
    "model = keras.models.load_model(\"./Model_callback/models/1L-LSTM128\")\n",
    "model2 = transfer_model(model)\n",
    "model2.layers[1].trainable = False\n",
    "model2.layers[2].trainable = False\n",
    "model2.summary()"
   ]
  },
  {
   "cell_type": "code",
   "execution_count": 27,
   "id": "dd01de7a",
   "metadata": {},
   "outputs": [
    {
     "name": "stdout",
     "output_type": "stream",
     "text": [
      "Epoch 1/50\n",
      "14/21 [===================>..........] - ETA: 0s - loss: 0.2337INFO:tensorflow:Assets written to: ./Model_callback/models/fiqa_ft_1L-LSTM-128/assets\n",
      "21/21 [==============================] - 14s 678ms/step - loss: 0.2086 - val_loss: 0.1595\n",
      "Epoch 2/50\n",
      "14/21 [===================>..........] - ETA: 0s - loss: 0.1656INFO:tensorflow:Assets written to: ./Model_callback/models/fiqa_ft_1L-LSTM-128/assets\n",
      "21/21 [==============================] - 14s 686ms/step - loss: 0.1608 - val_loss: 0.1494\n",
      "Epoch 3/50\n",
      "14/21 [===================>..........] - ETA: 0s - loss: 0.1464INFO:tensorflow:Assets written to: ./Model_callback/models/fiqa_ft_1L-LSTM-128/assets\n",
      "21/21 [==============================] - 13s 622ms/step - loss: 0.1475 - val_loss: 0.1453\n",
      "Epoch 4/50\n",
      "14/21 [===================>..........] - ETA: 0s - loss: 0.1424INFO:tensorflow:Assets written to: ./Model_callback/models/fiqa_ft_1L-LSTM-128/assets\n",
      "21/21 [==============================] - 15s 699ms/step - loss: 0.1391 - val_loss: 0.1418\n",
      "Epoch 5/50\n",
      "14/21 [===================>..........] - ETA: 0s - loss: 0.1358INFO:tensorflow:Assets written to: ./Model_callback/models/fiqa_ft_1L-LSTM-128/assets\n",
      "21/21 [==============================] - 13s 610ms/step - loss: 0.1335 - val_loss: 0.1404\n",
      "Epoch 6/50\n",
      "14/21 [===================>..........] - ETA: 0s - loss: 0.1355INFO:tensorflow:Assets written to: ./Model_callback/models/fiqa_ft_1L-LSTM-128/assets\n",
      "21/21 [==============================] - 16s 749ms/step - loss: 0.1289 - val_loss: 0.1390\n",
      "Epoch 7/50\n",
      "21/21 [==============================] - 0s 6ms/step - loss: 0.1256 - val_loss: 0.1391\n",
      "Epoch 8/50\n",
      "14/21 [===================>..........] - ETA: 0s - loss: 0.1305INFO:tensorflow:Assets written to: ./Model_callback/models/fiqa_ft_1L-LSTM-128/assets\n",
      "21/21 [==============================] - 13s 610ms/step - loss: 0.1242 - val_loss: 0.1373\n",
      "Epoch 9/50\n",
      "21/21 [==============================] - 0s 6ms/step - loss: 0.1202 - val_loss: 0.1380\n",
      "Epoch 10/50\n",
      "21/21 [==============================] - 0s 6ms/step - loss: 0.1184 - val_loss: 0.1382\n",
      "Epoch 11/50\n",
      "21/21 [==============================] - 0s 6ms/step - loss: 0.1166 - val_loss: 0.1381\n",
      "Epoch 12/50\n",
      "21/21 [==============================] - 0s 6ms/step - loss: 0.1153 - val_loss: 0.1389\n",
      "Epoch 13/50\n",
      "21/21 [==============================] - 0s 6ms/step - loss: 0.1137 - val_loss: 0.1384\n"
     ]
    }
   ],
   "source": [
    "my_callbacks = [callbacks.ModelCheckpoint(filepath=\"./Model_callback/models/fiqa_ft_1L-LSTM-128\",\n",
    "                                          monitor='val_loss',\n",
    "                                          mode='auto',\n",
    "                                          save_best_only= True),\n",
    "                callbacks.CSVLogger(\"./Model_callback/logger/fiqa_ft_1L-LSTM-128\"), \n",
    "                callbacks.EarlyStopping(monitor=\"val_loss\",patience=5)]\n",
    "\n",
    "opt = Adam(learning_rate = 0.002) \n",
    "model2.compile(loss='mean_squared_error', optimizer = opt)\n",
    "history_fiqa_ft_1L_LSTM_128 = model2.fit(X_train_fiqa_indixes, y_train_fiqa, epochs = 50, batch_size = 32, \n",
    "                                             validation_split =  1/4, shuffle=True, callbacks=my_callbacks)"
   ]
  },
  {
   "cell_type": "code",
   "execution_count": 28,
   "id": "0b1661f0",
   "metadata": {},
   "outputs": [
    {
     "data": {
      "image/png": "[encoded data removed]",
      "text/plain": [
       "<Figure size 432x288 with 1 Axes>"
      ]
     },
     "metadata": {
      "needs_background": "light"
     },
     "output_type": "display_data"
    }
   ],
   "source": [
    "plt.plot(history_fiqa_ft_1L_LSTM_128.history['loss'])\n",
    "plt.plot(history_fiqa_ft_1L_LSTM_128.history['val_loss'])\n",
    "plt.title('fiqa_ft_1L_LSTM_128 validation loss')\n",
    "plt.ylabel('loss')\n",
    "plt.xlabel('epoch')\n",
    "plt.legend(['loss', 'val_loss'], loc='upper right')\n",
    "plt.show()"
   ]
  },
  {
   "cell_type": "code",
   "execution_count": 29,
   "id": "de5c1903",
   "metadata": {},
   "outputs": [
    {
     "name": "stdout",
     "output_type": "stream",
     "text": [
      "28/28 [==============================] - 0s 3ms/step - loss: 0.1182\n",
      "\n",
      "Mean Squared Error on train set =  0.11822573095560074\n",
      "7/7 [==============================] - 0s 3ms/step - loss: 0.1340\n",
      "\n",
      "Mean Squared Error on test set =  0.13399165868759155\n"
     ]
    }
   ],
   "source": [
    "loss = model2.evaluate(X_train_fiqa_indixes, y_train_fiqa)\n",
    "print()\n",
    "print(\"Mean Squared Error on train set = \", loss)\n",
    "\n",
    "loss = model2.evaluate(X_test_fiqa_indixes, y_test_fiqa)\n",
    "print()\n",
    "print(\"Mean Squared Error on test set = \", loss)"
   ]
  },
  {
   "cell_type": "markdown",
   "id": "d5059998",
   "metadata": {},
   "source": [
    "# LSTM model - FiQA - Transfer as Initial"
   ]
  },
  {
   "cell_type": "code",
   "execution_count": 35,
   "id": "d3e2af16",
   "metadata": {},
   "outputs": [
    {
     "name": "stdout",
     "output_type": "stream",
     "text": [
      "Model: \"functional_11\"\n",
      "_________________________________________________________________\n",
      "Layer (type)                 Output Shape              Param #   \n",
      "=================================================================\n",
      "input_2 (InputLayer)         [(None, 50)]              0         \n",
      "_________________________________________________________________\n",
      "embedding_2 (Embedding)      (None, 50, 300)           120000300 \n",
      "_________________________________________________________________\n",
      "bidirectional_1 (Bidirection (None, 256)               439296    \n",
      "_________________________________________________________________\n",
      "dense_5 (Dense)              (None, 1)                 257       \n",
      "=================================================================\n",
      "Total params: 120,439,853\n",
      "Trainable params: 439,553\n",
      "Non-trainable params: 120,000,300\n",
      "_________________________________________________________________\n"
     ]
    }
   ],
   "source": [
    "model = keras.models.load_model(\"./Model_callback/models/1L-LSTM128\")\n",
    "model2 = transfer_model(model)\n",
    "model2.layers[1].trainable = False\n",
    "model2.summary()"
   ]
  },
  {
   "cell_type": "code",
   "execution_count": 36,
   "id": "64f34dd7",
   "metadata": {},
   "outputs": [
    {
     "name": "stdout",
     "output_type": "stream",
     "text": [
      "Epoch 1/50\n",
      "15/21 [====================>.........] - ETA: 0s - loss: 0.1896INFO:tensorflow:Assets written to: ./Model_callback/models/fiqa_1L-LSTM-128/assets\n",
      "21/21 [==============================] - 15s 694ms/step - loss: 0.1893 - val_loss: 0.1611\n",
      "Epoch 2/50\n",
      "15/21 [====================>.........] - ETA: 0s - loss: 0.1295INFO:tensorflow:Assets written to: ./Model_callback/models/fiqa_1L-LSTM-128/assets\n",
      "21/21 [==============================] - 15s 731ms/step - loss: 0.1271 - val_loss: 0.1326\n",
      "Epoch 3/50\n",
      "16/21 [=====================>........] - ETA: 0s - loss: 0.0853INFO:tensorflow:Assets written to: ./Model_callback/models/fiqa_1L-LSTM-128/assets\n",
      "21/21 [==============================] - 13s 621ms/step - loss: 0.0934 - val_loss: 0.1230\n",
      "Epoch 4/50\n",
      "15/21 [====================>.........] - ETA: 0s - loss: 0.0728INFO:tensorflow:Assets written to: ./Model_callback/models/fiqa_1L-LSTM-128/assets\n",
      "21/21 [==============================] - 15s 708ms/step - loss: 0.0705 - val_loss: 0.1185\n",
      "Epoch 5/50\n",
      "21/21 [==============================] - 0s 9ms/step - loss: 0.0533 - val_loss: 0.1191\n",
      "Epoch 6/50\n",
      "21/21 [==============================] - 0s 9ms/step - loss: 0.0413 - val_loss: 0.1248\n",
      "Epoch 7/50\n",
      "21/21 [==============================] - 0s 9ms/step - loss: 0.0306 - val_loss: 0.1273\n",
      "Epoch 8/50\n",
      "21/21 [==============================] - 0s 9ms/step - loss: 0.0242 - val_loss: 0.1275\n",
      "Epoch 9/50\n",
      "21/21 [==============================] - 0s 9ms/step - loss: 0.0189 - val_loss: 0.1293\n"
     ]
    }
   ],
   "source": [
    "my_callbacks = [callbacks.ModelCheckpoint(filepath=\"./Model_callback/models/fiqa_1L-LSTM-128\",\n",
    "                                          monitor='val_loss',\n",
    "                                          mode='auto',\n",
    "                                          save_best_only= True),\n",
    "                callbacks.CSVLogger(\"./Model_callback/logger/fiqa_1L-LSTM-128\"), \n",
    "                callbacks.EarlyStopping(monitor=\"val_loss\",patience=5)]\n",
    "\n",
    "opt = Adam(learning_rate = 0.0002) \n",
    "model2.compile(loss='mean_squared_error', optimizer = opt)\n",
    "history_fiqa_1L_LSTM_128 = model2.fit(X_train_fiqa_indixes, y_train_fiqa, epochs = 50, batch_size = 32, \n",
    "                                             validation_split =  1/4, shuffle=True, callbacks=my_callbacks)"
   ]
  },
  {
   "cell_type": "code",
   "execution_count": 37,
   "id": "3472fd21",
   "metadata": {},
   "outputs": [
    {
     "data": {
      "image/png": "[encoded data removed]",
      "text/plain": [
       "<Figure size 432x288 with 1 Axes>"
      ]
     },
     "metadata": {
      "needs_background": "light"
     },
     "output_type": "display_data"
    }
   ],
   "source": [
    "plt.plot(history_fiqa_1L_LSTM_128.history['loss'])\n",
    "plt.plot(history_fiqa_1L_LSTM_128.history['val_loss'])\n",
    "plt.title('fiqa_1L_LSTM_128 validation loss')\n",
    "plt.ylabel('loss')\n",
    "plt.xlabel('epoch')\n",
    "plt.legend(['loss', 'val_loss'], loc='upper right')\n",
    "plt.show()"
   ]
  },
  {
   "cell_type": "code",
   "execution_count": 38,
   "id": "1ff487e6",
   "metadata": {},
   "outputs": [
    {
     "name": "stdout",
     "output_type": "stream",
     "text": [
      "28/28 [==============================] - 0s 4ms/step - loss: 0.0437\n",
      "\n",
      "Mean Squared Error on train set =  0.04369940608739853\n",
      "7/7 [==============================] - 0s 4ms/step - loss: 0.1451\n",
      "\n",
      "Mean Squared Error on test set =  0.14509537816047668\n"
     ]
    }
   ],
   "source": [
    "loss = model2.evaluate(X_train_fiqa_indixes, y_train_fiqa)\n",
    "print()\n",
    "print(\"Mean Squared Error on train set = \", loss)\n",
    "\n",
    "loss = model2.evaluate(X_test_fiqa_indixes, y_test_fiqa)\n",
    "print()\n",
    "print(\"Mean Squared Error on test set = \", loss)"
   ]
  },
  {
   "cell_type": "markdown",
   "id": "c09e5678",
   "metadata": {},
   "source": [
    "# 2L LSTM - FiQA - Fine Tuning Only"
   ]
  },
  {
   "cell_type": "code",
   "execution_count": 39,
   "id": "9b9aa683",
   "metadata": {},
   "outputs": [
    {
     "name": "stdout",
     "output_type": "stream",
     "text": [
      "Model: \"functional_13\"\n",
      "_________________________________________________________________\n",
      "Layer (type)                 Output Shape              Param #   \n",
      "=================================================================\n",
      "input_3 (InputLayer)         [(None, 50)]              0         \n",
      "_________________________________________________________________\n",
      "embedding_3 (Embedding)      (None, 50, 300)           120000300 \n",
      "_________________________________________________________________\n",
      "bidirectional_2 (Bidirection (None, 50, 256)           439296    \n",
      "_________________________________________________________________\n",
      "dropout (Dropout)            (None, 50, 256)           0         \n",
      "_________________________________________________________________\n",
      "batch_normalization (BatchNo (None, 50, 256)           1024      \n",
      "_________________________________________________________________\n",
      "bidirectional_3 (Bidirection (None, 256)               394240    \n",
      "_________________________________________________________________\n",
      "dropout_1 (Dropout)          (None, 256)               0         \n",
      "_________________________________________________________________\n",
      "dense_6 (Dense)              (None, 1)                 257       \n",
      "=================================================================\n",
      "Total params: 120,835,117\n",
      "Trainable params: 257\n",
      "Non-trainable params: 120,834,860\n",
      "_________________________________________________________________\n"
     ]
    }
   ],
   "source": [
    "model = keras.models.load_model(\"./Model_callback/models/2L-LSTM128_128\")\n",
    "model2 = transfer_model(model)\n",
    "model2.layers[1].trainable = False\n",
    "model2.layers[2].trainable = False\n",
    "model2.layers[4].trainable = False\n",
    "model2.layers[5].trainable = False\n",
    "model2.summary()"
   ]
  },
  {
   "cell_type": "code",
   "execution_count": 41,
   "id": "70b0f481",
   "metadata": {},
   "outputs": [
    {
     "name": "stdout",
     "output_type": "stream",
     "text": [
      "Epoch 1/50\n",
      "17/21 [=======================>......] - ETA: 0s - loss: 0.1975INFO:tensorflow:Assets written to: ./Model_callback/models/fiqa_ft_2L-LSTM128_128/assets\n",
      "21/21 [==============================] - 25s 1s/step - loss: 0.1964 - val_loss: 0.1393\n",
      "Epoch 2/50\n",
      "17/21 [=======================>......] - ETA: 0s - loss: 0.1902INFO:tensorflow:Assets written to: ./Model_callback/models/fiqa_ft_2L-LSTM128_128/assets\n",
      "21/21 [==============================] - 25s 1s/step - loss: 0.1911 - val_loss: 0.1290\n",
      "Epoch 3/50\n",
      "18/21 [========================>.....] - ETA: 0s - loss: 0.1768INFO:tensorflow:Assets written to: ./Model_callback/models/fiqa_ft_2L-LSTM128_128/assets\n",
      "21/21 [==============================] - 25s 1s/step - loss: 0.1710 - val_loss: 0.1239\n",
      "Epoch 4/50\n",
      "19/21 [==========================>...] - ETA: 0s - loss: 0.1491INFO:tensorflow:Assets written to: ./Model_callback/models/fiqa_ft_2L-LSTM128_128/assets\n",
      "21/21 [==============================] - 25s 1s/step - loss: 0.1512 - val_loss: 0.1214\n",
      "Epoch 5/50\n",
      "19/21 [==========================>...] - ETA: 0s - loss: 0.1460INFO:tensorflow:Assets written to: ./Model_callback/models/fiqa_ft_2L-LSTM128_128/assets\n",
      "21/21 [==============================] - 25s 1s/step - loss: 0.1484 - val_loss: 0.1193\n",
      "Epoch 6/50\n",
      "21/21 [==============================] - 0s 9ms/step - loss: 0.1442 - val_loss: 0.1200\n",
      "Epoch 7/50\n",
      "21/21 [==============================] - 0s 9ms/step - loss: 0.1417 - val_loss: 0.1195\n",
      "Epoch 8/50\n",
      "18/21 [========================>.....] - ETA: 0s - loss: 0.1439INFO:tensorflow:Assets written to: ./Model_callback/models/fiqa_ft_2L-LSTM128_128/assets\n",
      "21/21 [==============================] - 23s 1s/step - loss: 0.1443 - val_loss: 0.1173\n",
      "Epoch 9/50\n",
      "18/21 [========================>.....] - ETA: 0s - loss: 0.1251INFO:tensorflow:Assets written to: ./Model_callback/models/fiqa_ft_2L-LSTM128_128/assets\n",
      "21/21 [==============================] - 26s 1s/step - loss: 0.1290 - val_loss: 0.1161\n",
      "Epoch 10/50\n",
      "21/21 [==============================] - 0s 9ms/step - loss: 0.1343 - val_loss: 0.1164\n",
      "Epoch 11/50\n",
      "18/21 [========================>.....] - ETA: 0s - loss: 0.1247INFO:tensorflow:Assets written to: ./Model_callback/models/fiqa_ft_2L-LSTM128_128/assets\n",
      "21/21 [==============================] - 25s 1s/step - loss: 0.1304 - val_loss: 0.1150\n",
      "Epoch 12/50\n",
      "21/21 [==============================] - 0s 9ms/step - loss: 0.1354 - val_loss: 0.1157\n",
      "Epoch 13/50\n",
      "21/21 [==============================] - 0s 9ms/step - loss: 0.1322 - val_loss: 0.1156\n",
      "Epoch 14/50\n",
      "21/21 [==============================] - 0s 9ms/step - loss: 0.1283 - val_loss: 0.1153\n",
      "Epoch 15/50\n",
      "21/21 [==============================] - 0s 9ms/step - loss: 0.1290 - val_loss: 0.1165\n",
      "Epoch 16/50\n",
      "21/21 [==============================] - 0s 9ms/step - loss: 0.1252 - val_loss: 0.1174\n"
     ]
    }
   ],
   "source": [
    "my_callbacks = [callbacks.ModelCheckpoint(filepath=\"./Model_callback/models/fiqa_ft_2L-LSTM128_128\",\n",
    "                                          monitor='val_loss',\n",
    "                                          mode='auto',\n",
    "                                          save_best_only= True),\n",
    "                callbacks.CSVLogger(\"./Model_callback/logger/fiqa_ft_2L-LSTM128_128\"), \n",
    "                callbacks.EarlyStopping(monitor=\"val_loss\",patience=5)]\n",
    "\n",
    "opt = Adam(learning_rate = 0.002) \n",
    "model2.compile(loss='mean_squared_error', optimizer = opt)\n",
    "history_fiqa_ft_2L_LSTM128_128 = model2.fit(X_train_fiqa_indixes, y_train_fiqa, epochs = 50, batch_size = 32, \n",
    "                                             validation_split =  1/4, shuffle=True, callbacks=my_callbacks)"
   ]
  },
  {
   "cell_type": "code",
   "execution_count": 42,
   "id": "dc85009e",
   "metadata": {},
   "outputs": [
    {
     "data": {
      "image/png": "[encoded data removed]",
      "text/plain": [
       "<Figure size 432x288 with 1 Axes>"
      ]
     },
     "metadata": {
      "needs_background": "light"
     },
     "output_type": "display_data"
    }
   ],
   "source": [
    "plt.plot(history_fiqa_ft_2L_LSTM128_128.history['loss'])\n",
    "plt.plot(history_fiqa_ft_2L_LSTM128_128.history['val_loss'])\n",
    "plt.title('fiqa_ft_2L_LSTM128_128 validation loss')\n",
    "plt.ylabel('loss')\n",
    "plt.xlabel('epoch')\n",
    "plt.legend(['loss', 'val_loss'], loc='upper right')\n",
    "plt.show()"
   ]
  },
  {
   "cell_type": "code",
   "execution_count": 43,
   "id": "a93e274c",
   "metadata": {},
   "outputs": [
    {
     "name": "stdout",
     "output_type": "stream",
     "text": [
      "28/28 [==============================] - 0s 6ms/step - loss: 0.1130\n",
      "\n",
      "Mean Squared Error on train set =  0.11295078694820404\n",
      "7/7 [==============================] - 0s 5ms/step - loss: 0.1311\n",
      "\n",
      "Mean Squared Error on test set =  0.1310618370771408\n"
     ]
    }
   ],
   "source": [
    "loss = model2.evaluate(X_train_fiqa_indixes, y_train_fiqa)\n",
    "print()\n",
    "print(\"Mean Squared Error on train set = \", loss)\n",
    "\n",
    "loss = model2.evaluate(X_test_fiqa_indixes, y_test_fiqa)\n",
    "print()\n",
    "print(\"Mean Squared Error on test set = \", loss)"
   ]
  },
  {
   "cell_type": "markdown",
   "id": "33809236",
   "metadata": {},
   "source": [
    "# 2L LSTM - FiQA - Transfer as Initial"
   ]
  },
  {
   "cell_type": "code",
   "execution_count": 44,
   "id": "558346e0",
   "metadata": {},
   "outputs": [
    {
     "name": "stdout",
     "output_type": "stream",
     "text": [
      "Model: \"functional_15\"\n",
      "_________________________________________________________________\n",
      "Layer (type)                 Output Shape              Param #   \n",
      "=================================================================\n",
      "input_3 (InputLayer)         [(None, 50)]              0         \n",
      "_________________________________________________________________\n",
      "embedding_3 (Embedding)      (None, 50, 300)           120000300 \n",
      "_________________________________________________________________\n",
      "bidirectional_2 (Bidirection (None, 50, 256)           439296    \n",
      "_________________________________________________________________\n",
      "dropout (Dropout)            (None, 50, 256)           0         \n",
      "_________________________________________________________________\n",
      "batch_normalization (BatchNo (None, 50, 256)           1024      \n",
      "_________________________________________________________________\n",
      "bidirectional_3 (Bidirection (None, 256)               394240    \n",
      "_________________________________________________________________\n",
      "dropout_1 (Dropout)          (None, 256)               0         \n",
      "_________________________________________________________________\n",
      "dense_7 (Dense)              (None, 1)                 257       \n",
      "=================================================================\n",
      "Total params: 120,835,117\n",
      "Trainable params: 834,305\n",
      "Non-trainable params: 120,000,812\n",
      "_________________________________________________________________\n"
     ]
    }
   ],
   "source": [
    "model = keras.models.load_model(\"./Model_callback/models/2L-LSTM128_128\")\n",
    "model2 = transfer_model(model)\n",
    "model2.layers[1].trainable = False\n",
    "model2.summary()"
   ]
  },
  {
   "cell_type": "code",
   "execution_count": 45,
   "id": "db664ae6",
   "metadata": {},
   "outputs": [
    {
     "name": "stdout",
     "output_type": "stream",
     "text": [
      "Epoch 1/50\n",
      "21/21 [==============================] - ETA: 0s - loss: 0.2999INFO:tensorflow:Assets written to: ./Model_callback/models/fiqa_2L-LSTM128_128/assets\n",
      "21/21 [==============================] - 26s 1s/step - loss: 0.2999 - val_loss: 0.1816\n",
      "Epoch 2/50\n",
      "21/21 [==============================] - ETA: 0s - loss: 0.2298INFO:tensorflow:Assets written to: ./Model_callback/models/fiqa_2L-LSTM128_128/assets\n",
      "21/21 [==============================] - 25s 1s/step - loss: 0.2298 - val_loss: 0.1716\n",
      "Epoch 3/50\n",
      "21/21 [==============================] - ETA: 0s - loss: 0.1786INFO:tensorflow:Assets written to: ./Model_callback/models/fiqa_2L-LSTM128_128/assets\n",
      "21/21 [==============================] - 26s 1s/step - loss: 0.1786 - val_loss: 0.1677\n",
      "Epoch 4/50\n",
      "21/21 [==============================] - ETA: 0s - loss: 0.1653INFO:tensorflow:Assets written to: ./Model_callback/models/fiqa_2L-LSTM128_128/assets\n",
      "21/21 [==============================] - 26s 1s/step - loss: 0.1653 - val_loss: 0.1598\n",
      "Epoch 5/50\n",
      "21/21 [==============================] - ETA: 0s - loss: 0.1384INFO:tensorflow:Assets written to: ./Model_callback/models/fiqa_2L-LSTM128_128/assets\n",
      "21/21 [==============================] - 26s 1s/step - loss: 0.1384 - val_loss: 0.1564\n",
      "Epoch 6/50\n",
      "21/21 [==============================] - ETA: 0s - loss: 0.1114INFO:tensorflow:Assets written to: ./Model_callback/models/fiqa_2L-LSTM128_128/assets\n",
      "21/21 [==============================] - 23s 1s/step - loss: 0.1114 - val_loss: 0.1522\n",
      "Epoch 7/50\n",
      "21/21 [==============================] - ETA: 0s - loss: 0.1235INFO:tensorflow:Assets written to: ./Model_callback/models/fiqa_2L-LSTM128_128/assets\n",
      "21/21 [==============================] - 27s 1s/step - loss: 0.1235 - val_loss: 0.1478\n",
      "Epoch 8/50\n",
      "21/21 [==============================] - ETA: 0s - loss: 0.1099INFO:tensorflow:Assets written to: ./Model_callback/models/fiqa_2L-LSTM128_128/assets\n",
      "21/21 [==============================] - 26s 1s/step - loss: 0.1099 - val_loss: 0.1398\n",
      "Epoch 9/50\n",
      "21/21 [==============================] - 0s 16ms/step - loss: 0.0980 - val_loss: 0.1491\n",
      "Epoch 10/50\n",
      "21/21 [==============================] - 0s 16ms/step - loss: 0.0927 - val_loss: 0.1406\n",
      "Epoch 11/50\n",
      "21/21 [==============================] - ETA: 0s - loss: 0.0799INFO:tensorflow:Assets written to: ./Model_callback/models/fiqa_2L-LSTM128_128/assets\n",
      "21/21 [==============================] - 23s 1s/step - loss: 0.0799 - val_loss: 0.1380\n",
      "Epoch 12/50\n",
      "21/21 [==============================] - ETA: 0s - loss: 0.0737INFO:tensorflow:Assets written to: ./Model_callback/models/fiqa_2L-LSTM128_128/assets\n",
      "21/21 [==============================] - 26s 1s/step - loss: 0.0737 - val_loss: 0.1375\n",
      "Epoch 13/50\n",
      "21/21 [==============================] - ETA: 0s - loss: 0.0785INFO:tensorflow:Assets written to: ./Model_callback/models/fiqa_2L-LSTM128_128/assets\n",
      "21/21 [==============================] - 25s 1s/step - loss: 0.0785 - val_loss: 0.1364\n",
      "Epoch 14/50\n",
      "21/21 [==============================] - 0s 16ms/step - loss: 0.0692 - val_loss: 0.1397\n",
      "Epoch 15/50\n",
      "21/21 [==============================] - ETA: 0s - loss: 0.0699INFO:tensorflow:Assets written to: ./Model_callback/models/fiqa_2L-LSTM128_128/assets\n",
      "21/21 [==============================] - 26s 1s/step - loss: 0.0699 - val_loss: 0.1340\n",
      "Epoch 16/50\n",
      "21/21 [==============================] - 0s 16ms/step - loss: 0.0611 - val_loss: 0.1346\n",
      "Epoch 17/50\n",
      "21/21 [==============================] - 0s 17ms/step - loss: 0.0644 - val_loss: 0.1343\n",
      "Epoch 18/50\n",
      "21/21 [==============================] - ETA: 0s - loss: 0.0585INFO:tensorflow:Assets written to: ./Model_callback/models/fiqa_2L-LSTM128_128/assets\n",
      "21/21 [==============================] - 25s 1s/step - loss: 0.0585 - val_loss: 0.1314\n",
      "Epoch 19/50\n",
      "21/21 [==============================] - 0s 16ms/step - loss: 0.0558 - val_loss: 0.1339\n",
      "Epoch 20/50\n",
      "21/21 [==============================] - ETA: 0s - loss: 0.0583INFO:tensorflow:Assets written to: ./Model_callback/models/fiqa_2L-LSTM128_128/assets\n",
      "21/21 [==============================] - 29s 1s/step - loss: 0.0583 - val_loss: 0.1300\n",
      "Epoch 21/50\n",
      "21/21 [==============================] - 0s 16ms/step - loss: 0.0484 - val_loss: 0.1301\n",
      "Epoch 22/50\n",
      "21/21 [==============================] - 0s 15ms/step - loss: 0.0468 - val_loss: 0.1343\n",
      "Epoch 23/50\n",
      "21/21 [==============================] - 0s 15ms/step - loss: 0.0473 - val_loss: 0.1333\n",
      "Epoch 24/50\n",
      "21/21 [==============================] - 0s 15ms/step - loss: 0.0418 - val_loss: 0.1319\n",
      "Epoch 25/50\n",
      "21/21 [==============================] - 0s 15ms/step - loss: 0.0448 - val_loss: 0.1347\n"
     ]
    }
   ],
   "source": [
    "my_callbacks = [callbacks.ModelCheckpoint(filepath=\"./Model_callback/models/fiqa_2L-LSTM128_128\",\n",
    "                                          monitor='val_loss',\n",
    "                                          mode='auto',\n",
    "                                          save_best_only= True),\n",
    "                callbacks.CSVLogger(\"./Model_callback/logger/fiqa_2L-LSTM128_128\"), \n",
    "                callbacks.EarlyStopping(monitor=\"val_loss\",patience=5)]\n",
    "\n",
    "opt = Adam(learning_rate = 0.0002) \n",
    "model2.compile(loss='mean_squared_error', optimizer = opt)\n",
    "history_fiqa_2L_LSTM128_128 = model2.fit(X_train_fiqa_indixes, y_train_fiqa, epochs = 50, batch_size = 32, \n",
    "                                             validation_split =  1/4, shuffle=True, callbacks=my_callbacks)"
   ]
  },
  {
   "cell_type": "code",
   "execution_count": 46,
   "id": "39bf685f",
   "metadata": {},
   "outputs": [
    {
     "data": {
      "image/png": "[encoded data removed]",
      "text/plain": [
       "<Figure size 432x288 with 1 Axes>"
      ]
     },
     "metadata": {
      "needs_background": "light"
     },
     "output_type": "display_data"
    }
   ],
   "source": [
    "plt.plot(history_fiqa_2L_LSTM128_128.history['loss'])\n",
    "plt.plot(history_fiqa_2L_LSTM128_128.history['val_loss'])\n",
    "plt.title('fiqa_2L_LSTM128_128 validation loss')\n",
    "plt.ylabel('loss')\n",
    "plt.xlabel('epoch')\n",
    "plt.legend(['loss', 'val_loss'], loc='upper right')\n",
    "plt.show()"
   ]
  },
  {
   "cell_type": "code",
   "execution_count": 47,
   "id": "ad64e82f",
   "metadata": {},
   "outputs": [
    {
     "name": "stdout",
     "output_type": "stream",
     "text": [
      "28/28 [==============================] - 0s 6ms/step - loss: 0.0450\n",
      "\n",
      "Mean Squared Error on train set =  0.04504041001200676\n",
      "7/7 [==============================] - 0s 5ms/step - loss: 0.1345\n",
      "\n",
      "Mean Squared Error on test set =  0.13454727828502655\n"
     ]
    }
   ],
   "source": [
    "loss = model2.evaluate(X_train_fiqa_indixes, y_train_fiqa)\n",
    "print()\n",
    "print(\"Mean Squared Error on train set = \", loss)\n",
    "\n",
    "loss = model2.evaluate(X_test_fiqa_indixes, y_test_fiqa)\n",
    "print()\n",
    "print(\"Mean Squared Error on test set = \", loss)"
   ]
  },
  {
   "cell_type": "markdown",
   "id": "b4c14784",
   "metadata": {},
   "source": [
    "# 3L-LSTM model - FiQA - Fine Tuning Only"
   ]
  },
  {
   "cell_type": "code",
   "execution_count": 48,
   "id": "47ce5155",
   "metadata": {},
   "outputs": [
    {
     "name": "stdout",
     "output_type": "stream",
     "text": [
      "Model: \"functional_17\"\n",
      "_________________________________________________________________\n",
      "Layer (type)                 Output Shape              Param #   \n",
      "=================================================================\n",
      "input_1 (InputLayer)         [(None, 50)]              0         \n",
      "_________________________________________________________________\n",
      "embedding_1 (Embedding)      (None, 50, 300)           120000300 \n",
      "_________________________________________________________________\n",
      "bidirectional (Bidirectional (None, 50, 256)           439296    \n",
      "_________________________________________________________________\n",
      "dropout (Dropout)            (None, 50, 256)           0         \n",
      "_________________________________________________________________\n",
      "batch_normalization (BatchNo (None, 50, 256)           1024      \n",
      "_________________________________________________________________\n",
      "bidirectional_1 (Bidirection (None, 50, 256)           394240    \n",
      "_________________________________________________________________\n",
      "dropout_1 (Dropout)          (None, 50, 256)           0         \n",
      "_________________________________________________________________\n",
      "batch_normalization_1 (Batch (None, 50, 256)           1024      \n",
      "_________________________________________________________________\n",
      "bidirectional_2 (Bidirection (None, 128)               164352    \n",
      "_________________________________________________________________\n",
      "dropout_2 (Dropout)          (None, 128)               0         \n",
      "_________________________________________________________________\n",
      "dense_8 (Dense)              (None, 1)                 129       \n",
      "=================================================================\n",
      "Total params: 121,000,365\n",
      "Trainable params: 129\n",
      "Non-trainable params: 121,000,236\n",
      "_________________________________________________________________\n"
     ]
    }
   ],
   "source": [
    "model = keras.models.load_model(\"./Model_callback/models/3L-LSTM128_128_64\")\n",
    "model2 = transfer_model(model)\n",
    "model2.layers[1].trainable = False\n",
    "model2.layers[2].trainable = False\n",
    "model2.layers[4].trainable = False\n",
    "model2.layers[5].trainable = False\n",
    "model2.layers[7].trainable = False\n",
    "model2.layers[8].trainable = False\n",
    "model2.summary()"
   ]
  },
  {
   "cell_type": "code",
   "execution_count": 49,
   "id": "54616721",
   "metadata": {},
   "outputs": [
    {
     "name": "stdout",
     "output_type": "stream",
     "text": [
      "Epoch 1/50\n",
      "21/21 [==============================] - ETA: 0s - loss: 0.2897INFO:tensorflow:Assets written to: ./Model_callback/models/fiqa_ft_3L-LSTM128_128_64/assets\n",
      "21/21 [==============================] - 36s 2s/step - loss: 0.2897 - val_loss: 0.1704\n",
      "Epoch 2/50\n",
      "15/21 [====================>.........] - ETA: 0s - loss: 0.2203INFO:tensorflow:Assets written to: ./Model_callback/models/fiqa_ft_3L-LSTM128_128_64/assets\n",
      "21/21 [==============================] - 34s 2s/step - loss: 0.2208 - val_loss: 0.1700\n",
      "Epoch 3/50\n",
      "21/21 [==============================] - ETA: 0s - loss: 0.2012INFO:tensorflow:Assets written to: ./Model_callback/models/fiqa_ft_3L-LSTM128_128_64/assets\n",
      "21/21 [==============================] - 39s 2s/step - loss: 0.2012 - val_loss: 0.1550\n",
      "Epoch 4/50\n",
      "20/21 [===========================>..] - ETA: 0s - loss: 0.2050INFO:tensorflow:Assets written to: ./Model_callback/models/fiqa_ft_3L-LSTM128_128_64/assets\n",
      "21/21 [==============================] - 39s 2s/step - loss: 0.2080 - val_loss: 0.1503\n",
      "Epoch 5/50\n",
      "19/21 [==========================>...] - ETA: 0s - loss: 0.2005INFO:tensorflow:Assets written to: ./Model_callback/models/fiqa_ft_3L-LSTM128_128_64/assets\n",
      "21/21 [==============================] - 36s 2s/step - loss: 0.2018 - val_loss: 0.1474\n",
      "Epoch 6/50\n",
      "20/21 [===========================>..] - ETA: 0s - loss: 0.1826INFO:tensorflow:Assets written to: ./Model_callback/models/fiqa_ft_3L-LSTM128_128_64/assets\n",
      "21/21 [==============================] - 36s 2s/step - loss: 0.1822 - val_loss: 0.1426\n",
      "Epoch 7/50\n",
      "20/21 [===========================>..] - ETA: 0s - loss: 0.1741INFO:tensorflow:Assets written to: ./Model_callback/models/fiqa_ft_3L-LSTM128_128_64/assets\n",
      "21/21 [==============================] - 36s 2s/step - loss: 0.1743 - val_loss: 0.1402\n",
      "Epoch 8/50\n",
      "19/21 [==========================>...] - ETA: 0s - loss: 0.1760INFO:tensorflow:Assets written to: ./Model_callback/models/fiqa_ft_3L-LSTM128_128_64/assets\n",
      "21/21 [==============================] - 33s 2s/step - loss: 0.1741 - val_loss: 0.1370\n",
      "Epoch 9/50\n",
      "19/21 [==========================>...] - ETA: 0s - loss: 0.1560INFO:tensorflow:Assets written to: ./Model_callback/models/fiqa_ft_3L-LSTM128_128_64/assets\n",
      "21/21 [==============================] - 37s 2s/step - loss: 0.1584 - val_loss: 0.1343\n",
      "Epoch 10/50\n",
      "20/21 [===========================>..] - ETA: 0s - loss: 0.1577INFO:tensorflow:Assets written to: ./Model_callback/models/fiqa_ft_3L-LSTM128_128_64/assets\n",
      "21/21 [==============================] - 39s 2s/step - loss: 0.1594 - val_loss: 0.1331\n",
      "Epoch 11/50\n",
      "20/21 [===========================>..] - ETA: 0s - loss: 0.1547INFO:tensorflow:Assets written to: ./Model_callback/models/fiqa_ft_3L-LSTM128_128_64/assets\n",
      "21/21 [==============================] - 36s 2s/step - loss: 0.1557 - val_loss: 0.1316\n",
      "Epoch 12/50\n",
      "19/21 [==========================>...] - ETA: 0s - loss: 0.1577INFO:tensorflow:Assets written to: ./Model_callback/models/fiqa_ft_3L-LSTM128_128_64/assets\n",
      "21/21 [==============================] - 36s 2s/step - loss: 0.1566 - val_loss: 0.1302\n",
      "Epoch 13/50\n",
      "19/21 [==========================>...] - ETA: 0s - loss: 0.1537INFO:tensorflow:Assets written to: ./Model_callback/models/fiqa_ft_3L-LSTM128_128_64/assets\n",
      "21/21 [==============================] - 32s 2s/step - loss: 0.1513 - val_loss: 0.1298\n",
      "Epoch 14/50\n",
      "19/21 [==========================>...] - ETA: 0s - loss: 0.1487INFO:tensorflow:Assets written to: ./Model_callback/models/fiqa_ft_3L-LSTM128_128_64/assets\n",
      "21/21 [==============================] - 37s 2s/step - loss: 0.1496 - val_loss: 0.1287\n",
      "Epoch 15/50\n",
      "21/21 [==============================] - ETA: 0s - loss: 0.1423INFO:tensorflow:Assets written to: ./Model_callback/models/fiqa_ft_3L-LSTM128_128_64/assets\n",
      "21/21 [==============================] - 39s 2s/step - loss: 0.1423 - val_loss: 0.1280\n",
      "Epoch 16/50\n",
      "19/21 [==========================>...] - ETA: 0s - loss: 0.1466INFO:tensorflow:Assets written to: ./Model_callback/models/fiqa_ft_3L-LSTM128_128_64/assets\n",
      "21/21 [==============================] - 36s 2s/step - loss: 0.1467 - val_loss: 0.1275\n",
      "Epoch 17/50\n",
      "20/21 [===========================>..] - ETA: 0s - loss: 0.1422INFO:tensorflow:Assets written to: ./Model_callback/models/fiqa_ft_3L-LSTM128_128_64/assets\n",
      "21/21 [==============================] - 39s 2s/step - loss: 0.1436 - val_loss: 0.1275\n",
      "Epoch 18/50\n",
      "21/21 [==============================] - 0s 12ms/step - loss: 0.1392 - val_loss: 0.1275\n",
      "Epoch 19/50\n",
      "20/21 [===========================>..] - ETA: 0s - loss: 0.1466INFO:tensorflow:Assets written to: ./Model_callback/models/fiqa_ft_3L-LSTM128_128_64/assets\n",
      "21/21 [==============================] - 36s 2s/step - loss: 0.1458 - val_loss: 0.1266\n",
      "Epoch 20/50\n",
      "20/21 [===========================>..] - ETA: 0s - loss: 0.1429INFO:tensorflow:Assets written to: ./Model_callback/models/fiqa_ft_3L-LSTM128_128_64/assets\n",
      "21/21 [==============================] - 33s 2s/step - loss: 0.1417 - val_loss: 0.1264\n",
      "Epoch 21/50\n",
      "19/21 [==========================>...] - ETA: 0s - loss: 0.1360INFO:tensorflow:Assets written to: ./Model_callback/models/fiqa_ft_3L-LSTM128_128_64/assets\n",
      "21/21 [==============================] - 37s 2s/step - loss: 0.1381 - val_loss: 0.1264\n",
      "Epoch 22/50\n",
      "21/21 [==============================] - 0s 12ms/step - loss: 0.1383 - val_loss: 0.1266\n",
      "Epoch 23/50\n",
      "21/21 [==============================] - 0s 12ms/step - loss: 0.1426 - val_loss: 0.1270\n",
      "Epoch 24/50\n",
      "20/21 [===========================>..] - ETA: 0s - loss: 0.1339INFO:tensorflow:Assets written to: ./Model_callback/models/fiqa_ft_3L-LSTM128_128_64/assets\n",
      "21/21 [==============================] - 36s 2s/step - loss: 0.1333 - val_loss: 0.1260\n",
      "Epoch 25/50\n",
      "21/21 [==============================] - 0s 12ms/step - loss: 0.1360 - val_loss: 0.1261\n",
      "Epoch 26/50\n",
      "21/21 [==============================] - 0s 12ms/step - loss: 0.1380 - val_loss: 0.1278\n",
      "Epoch 27/50\n",
      "21/21 [==============================] - 0s 12ms/step - loss: 0.1386 - val_loss: 0.1276\n",
      "Epoch 28/50\n",
      "21/21 [==============================] - 0s 12ms/step - loss: 0.1426 - val_loss: 0.1268\n",
      "Epoch 29/50\n",
      "21/21 [==============================] - 0s 12ms/step - loss: 0.1411 - val_loss: 0.1271\n"
     ]
    }
   ],
   "source": [
    "my_callbacks = [callbacks.ModelCheckpoint(filepath=\"./Model_callback/models/fiqa_ft_3L-LSTM128_128_64\",\n",
    "                                          monitor='val_loss',\n",
    "                                          mode='auto',\n",
    "                                          save_best_only= True),\n",
    "                callbacks.CSVLogger(\"./Model_callback/logger/fiqa_ft_3L-LSTM128_128_64\"), \n",
    "                callbacks.EarlyStopping(monitor=\"val_loss\",patience=5)]\n",
    "\n",
    "opt = Adam(learning_rate = 0.002) \n",
    "model2.compile(loss='mean_squared_error', optimizer = opt)\n",
    "history_fiqa_ft_3L_LSTM128_128_64 = model2.fit(X_train_fiqa_indixes, y_train_fiqa, epochs = 50, batch_size = 32, \n",
    "                                             validation_split =  1/4, shuffle=True, callbacks=my_callbacks)"
   ]
  },
  {
   "cell_type": "code",
   "execution_count": 50,
   "id": "58f5bcde",
   "metadata": {},
   "outputs": [
    {
     "data": {
      "image/png": "[encoded data removed]",
      "text/plain": [
       "<Figure size 432x288 with 1 Axes>"
      ]
     },
     "metadata": {
      "needs_background": "light"
     },
     "output_type": "display_data"
    }
   ],
   "source": [
    "plt.plot(history_fiqa_ft_3L_LSTM128_128_64.history['loss'])\n",
    "plt.plot(history_fiqa_ft_3L_LSTM128_128_64.history['val_loss'])\n",
    "plt.title('fiqa_ft_3L_LSTM128_128_64 validation loss')\n",
    "plt.ylabel('loss')\n",
    "plt.xlabel('epoch')\n",
    "plt.legend(['loss', 'val_loss'], loc='upper right')\n",
    "plt.show()"
   ]
  },
  {
   "cell_type": "code",
   "execution_count": 51,
   "id": "ad204596",
   "metadata": {},
   "outputs": [
    {
     "name": "stdout",
     "output_type": "stream",
     "text": [
      "28/28 [==============================] - 0s 8ms/step - loss: 0.1281\n",
      "\n",
      "Mean Squared Error on train set =  0.1280776411294937\n",
      "7/7 [==============================] - 0s 7ms/step - loss: 0.1361\n",
      "\n",
      "Mean Squared Error on test set =  0.13607138395309448\n"
     ]
    }
   ],
   "source": [
    "loss = model2.evaluate(X_train_fiqa_indixes, y_train_fiqa)\n",
    "print()\n",
    "print(\"Mean Squared Error on train set = \", loss)\n",
    "\n",
    "loss = model2.evaluate(X_test_fiqa_indixes, y_test_fiqa)\n",
    "print()\n",
    "print(\"Mean Squared Error on test set = \", loss)"
   ]
  },
  {
   "cell_type": "markdown",
   "id": "e45517d6",
   "metadata": {},
   "source": [
    "# 3L-LSTM model - FiQA - Transfer as Initial"
   ]
  },
  {
   "cell_type": "code",
   "execution_count": 52,
   "id": "9f36ca2b",
   "metadata": {},
   "outputs": [
    {
     "name": "stdout",
     "output_type": "stream",
     "text": [
      "Model: \"functional_19\"\n",
      "_________________________________________________________________\n",
      "Layer (type)                 Output Shape              Param #   \n",
      "=================================================================\n",
      "input_1 (InputLayer)         [(None, 50)]              0         \n",
      "_________________________________________________________________\n",
      "embedding_1 (Embedding)      (None, 50, 300)           120000300 \n",
      "_________________________________________________________________\n",
      "bidirectional (Bidirectional (None, 50, 256)           439296    \n",
      "_________________________________________________________________\n",
      "dropout (Dropout)            (None, 50, 256)           0         \n",
      "_________________________________________________________________\n",
      "batch_normalization (BatchNo (None, 50, 256)           1024      \n",
      "_________________________________________________________________\n",
      "bidirectional_1 (Bidirection (None, 50, 256)           394240    \n",
      "_________________________________________________________________\n",
      "dropout_1 (Dropout)          (None, 50, 256)           0         \n",
      "_________________________________________________________________\n",
      "batch_normalization_1 (Batch (None, 50, 256)           1024      \n",
      "_________________________________________________________________\n",
      "bidirectional_2 (Bidirection (None, 128)               164352    \n",
      "_________________________________________________________________\n",
      "dropout_2 (Dropout)          (None, 128)               0         \n",
      "_________________________________________________________________\n",
      "dense_9 (Dense)              (None, 1)                 129       \n",
      "=================================================================\n",
      "Total params: 121,000,365\n",
      "Trainable params: 999,041\n",
      "Non-trainable params: 120,001,324\n",
      "_________________________________________________________________\n"
     ]
    }
   ],
   "source": [
    "model = keras.models.load_model(\"./Model_callback/models/3L-LSTM128_128_64\")\n",
    "model2 = transfer_model(model)\n",
    "model2.layers[1].trainable = False\n",
    "model2.summary()"
   ]
  },
  {
   "cell_type": "code",
   "execution_count": 53,
   "id": "a0cad0e0",
   "metadata": {},
   "outputs": [
    {
     "name": "stdout",
     "output_type": "stream",
     "text": [
      "Epoch 1/50\n",
      "19/21 [==========================>...] - ETA: 0s - loss: 0.3795INFO:tensorflow:Assets written to: ./Model_callback/models/fiqa_3L-LSTM128_128_64/assets\n",
      "21/21 [==============================] - 37s 2s/step - loss: 0.3707 - val_loss: 0.2168\n",
      "Epoch 2/50\n",
      "21/21 [==============================] - 0s 22ms/step - loss: 0.2665 - val_loss: 0.2214\n",
      "Epoch 3/50\n",
      "21/21 [==============================] - 0s 22ms/step - loss: 0.2261 - val_loss: 0.2192\n",
      "Epoch 4/50\n",
      "19/21 [==========================>...] - ETA: 0s - loss: 0.2021INFO:tensorflow:Assets written to: ./Model_callback/models/fiqa_3L-LSTM128_128_64/assets\n",
      "21/21 [==============================] - 34s 2s/step - loss: 0.2018 - val_loss: 0.1881\n",
      "Epoch 5/50\n",
      "19/21 [==========================>...] - ETA: 0s - loss: 0.1927INFO:tensorflow:Assets written to: ./Model_callback/models/fiqa_3L-LSTM128_128_64/assets\n",
      "21/21 [==============================] - 39s 2s/step - loss: 0.1954 - val_loss: 0.1657\n",
      "Epoch 6/50\n",
      "21/21 [==============================] - 0s 22ms/step - loss: 0.1608 - val_loss: 0.1659\n",
      "Epoch 7/50\n",
      "19/21 [==========================>...] - ETA: 0s - loss: 0.1411INFO:tensorflow:Assets written to: ./Model_callback/models/fiqa_3L-LSTM128_128_64/assets\n",
      "21/21 [==============================] - 37s 2s/step - loss: 0.1441 - val_loss: 0.1446\n",
      "Epoch 8/50\n",
      "19/21 [==========================>...] - ETA: 0s - loss: 0.1481INFO:tensorflow:Assets written to: ./Model_callback/models/fiqa_3L-LSTM128_128_64/assets\n",
      "21/21 [==============================] - 33s 2s/step - loss: 0.1425 - val_loss: 0.1373\n",
      "Epoch 9/50\n",
      "19/21 [==========================>...] - ETA: 0s - loss: 0.1477INFO:tensorflow:Assets written to: ./Model_callback/models/fiqa_3L-LSTM128_128_64/assets\n",
      "21/21 [==============================] - 38s 2s/step - loss: 0.1432 - val_loss: 0.1227\n",
      "Epoch 10/50\n",
      "19/21 [==========================>...] - ETA: 0s - loss: 0.1165INFO:tensorflow:Assets written to: ./Model_callback/models/fiqa_3L-LSTM128_128_64/assets\n",
      "21/21 [==============================] - 40s 2s/step - loss: 0.1178 - val_loss: 0.1163\n",
      "Epoch 11/50\n",
      "19/21 [==========================>...] - ETA: 0s - loss: 0.1115INFO:tensorflow:Assets written to: ./Model_callback/models/fiqa_3L-LSTM128_128_64/assets\n",
      "21/21 [==============================] - 37s 2s/step - loss: 0.1117 - val_loss: 0.1163\n",
      "Epoch 12/50\n",
      "19/21 [==========================>...] - ETA: 0s - loss: 0.1043INFO:tensorflow:Assets written to: ./Model_callback/models/fiqa_3L-LSTM128_128_64/assets\n",
      "21/21 [==============================] - 36s 2s/step - loss: 0.1051 - val_loss: 0.1157\n",
      "Epoch 13/50\n",
      "21/21 [==============================] - 0s 22ms/step - loss: 0.0962 - val_loss: 0.1200\n",
      "Epoch 14/50\n",
      "21/21 [==============================] - 0s 22ms/step - loss: 0.0949 - val_loss: 0.1231\n",
      "Epoch 15/50\n",
      "21/21 [==============================] - 0s 22ms/step - loss: 0.0789 - val_loss: 0.1203\n",
      "Epoch 16/50\n",
      "21/21 [==============================] - 0s 22ms/step - loss: 0.0766 - val_loss: 0.1234\n",
      "Epoch 17/50\n",
      "21/21 [==============================] - 0s 23ms/step - loss: 0.0783 - val_loss: 0.1229\n"
     ]
    }
   ],
   "source": [
    "my_callbacks = [callbacks.ModelCheckpoint(filepath=\"./Model_callback/models/fiqa_3L-LSTM128_128_64\",\n",
    "                                          monitor='val_loss',\n",
    "                                          mode='auto',\n",
    "                                          save_best_only= True),\n",
    "                callbacks.CSVLogger(\"./Model_callback/logger/fiqa_3L-LSTM128_128_64\"), \n",
    "                callbacks.EarlyStopping(monitor=\"val_loss\",patience=5)]\n",
    "\n",
    "opt = Adam(learning_rate = 0.0002) \n",
    "model2.compile(loss='mean_squared_error', optimizer = opt)\n",
    "history_fiqa_3L_LSTM128_128_64 = model2.fit(X_train_fiqa_indixes, y_train_fiqa, epochs = 50, batch_size = 32, \n",
    "                                             validation_split =  1/4, shuffle=True, callbacks=my_callbacks)"
   ]
  },
  {
   "cell_type": "code",
   "execution_count": 54,
   "id": "0f58bb62",
   "metadata": {},
   "outputs": [
    {
     "data": {
      "image/png": "[encoded data removed]",
      "text/plain": [
       "<Figure size 432x288 with 1 Axes>"
      ]
     },
     "metadata": {
      "needs_background": "light"
     },
     "output_type": "display_data"
    }
   ],
   "source": [
    "plt.plot(history_fiqa_3L_LSTM128_128_64.history['loss'])\n",
    "plt.plot(history_fiqa_3L_LSTM128_128_64.history['val_loss'])\n",
    "plt.title('fiqa_3L_LSTM128_128_64 validation loss')\n",
    "plt.ylabel('loss')\n",
    "plt.xlabel('epoch')\n",
    "plt.legend(['loss', 'val_loss'], loc='upper right')\n",
    "plt.show()"
   ]
  },
  {
   "cell_type": "code",
   "execution_count": 55,
   "id": "300c81ed",
   "metadata": {},
   "outputs": [
    {
     "name": "stdout",
     "output_type": "stream",
     "text": [
      "28/28 [==============================] - 0s 8ms/step - loss: 0.0520\n",
      "\n",
      "Mean Squared Error on train set =  0.05200758948922157\n",
      "7/7 [==============================] - 0s 7ms/step - loss: 0.1355\n",
      "\n",
      "Mean Squared Error on test set =  0.1354910284280777\n"
     ]
    }
   ],
   "source": [
    "loss = model2.evaluate(X_train_fiqa_indixes, y_train_fiqa)\n",
    "print()\n",
    "print(\"Mean Squared Error on train set = \", loss)\n",
    "\n",
    "loss = model2.evaluate(X_test_fiqa_indixes, y_test_fiqa)\n",
    "print()\n",
    "print(\"Mean Squared Error on test set = \", loss)"
   ]
  },
  {
   "cell_type": "code",
   "execution_count": null,
   "id": "466835a4",
   "metadata": {},
   "outputs": [],
   "source": []
  },
  {
   "cell_type": "code",
   "execution_count": null,
   "id": "2eec1f5a",
   "metadata": {},
   "outputs": [],
   "source": []
  },
  {
   "cell_type": "code",
   "execution_count": null,
   "id": "33ad6796",
   "metadata": {},
   "outputs": [],
   "source": []
  },
  {
   "cell_type": "code",
   "execution_count": null,
   "id": "28a2b2f1",
   "metadata": {},
   "outputs": [],
   "source": []
  }
 ],
 "metadata": {
  "kernelspec": {
   "display_name": "Python 3",
   "language": "python",
   "name": "python3"
  },
  "language_info": {
   "codemirror_mode": {
    "name": "ipython",
    "version": 3
   },
   "file_extension": ".py",
   "mimetype": "text/x-python",
   "name": "python",
   "nbconvert_exporter": "python",
   "pygments_lexer": "ipython3",
   "version": "3.8.5"
  }
 },
 "nbformat": 4,
 "nbformat_minor": 5
}
