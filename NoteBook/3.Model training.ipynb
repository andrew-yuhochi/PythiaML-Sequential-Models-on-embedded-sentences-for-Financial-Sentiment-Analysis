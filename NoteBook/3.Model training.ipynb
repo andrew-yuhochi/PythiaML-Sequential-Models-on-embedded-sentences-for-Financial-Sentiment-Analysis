{
 "cells": [
  {
   "cell_type": "markdown",
   "id": "0b4f5171",
   "metadata": {},
   "source": [
    "# Convert to Glove numeric vector (6B-0d) and perform padding"
   ]
  },
  {
   "cell_type": "code",
   "execution_count": 1,
   "id": "71754621",
   "metadata": {},
   "outputs": [
    {
     "name": "stderr",
     "output_type": "stream",
     "text": [
      "/Users/andrewyu/opt/anaconda3/lib/python3.8/site-packages/numpy/lib/arraysetops.py:569: FutureWarning: elementwise comparison failed; returning scalar instead, but in the future will perform elementwise comparison\n",
      "  mask |= (ar1 == a)\n"
     ]
    }
   ],
   "source": [
    "import pandas as pd\n",
    "path = \"df_before_modelling\"\n",
    "df = pd.read_csv(path, index_col=0)\n",
    "\n",
    "df.text = df.text.astype(str)"
   ]
  },
  {
   "cell_type": "code",
   "execution_count": 2,
   "id": "723f4528",
   "metadata": {},
   "outputs": [],
   "source": [
    "def read_glove_vecs(glove_file):\n",
    "    '''\n",
    "    This function is to create 3 Dictionaries that can interact with the glove pre-trained weightings\n",
    "    Input:\n",
    "        glove_file: the directory of the pre-trained file\n",
    "    Output:\n",
    "        words_to_index: A directory that can use words as name and return back the index\n",
    "        index_to_words: A directory that can use index as name and return back the words\n",
    "        word_to_vec_map: A directory that can use words as name and directly return the Vector mapping\n",
    "    '''\n",
    "    with open(glove_file, 'r', encoding=\"utf-8\") as f:\n",
    "        words = set()\n",
    "        word_to_vec_map = {}\n",
    "        for line in f:\n",
    "            line = line.strip().split()\n",
    "            curr_word = line[0]\n",
    "            words.add(curr_word)\n",
    "            word_to_vec_map[curr_word] = np.array(line[1:], dtype=np.float64)\n",
    "        \n",
    "        i = 1\n",
    "        words_to_index = {}\n",
    "        index_to_words = {}\n",
    "        for w in sorted(words):\n",
    "            words_to_index[w] = i\n",
    "            index_to_words[i] = w\n",
    "            i = i + 1\n",
    "    return words_to_index, index_to_words, word_to_vec_map"
   ]
  },
  {
   "cell_type": "code",
   "execution_count": 3,
   "id": "a149ae71",
   "metadata": {},
   "outputs": [],
   "source": [
    "def sentences_to_indices(X, word_to_index, Tx):\n",
    "    \"\"\"\n",
    "    This function is to converts an array of sentences into an array of indices corresponding to words in the sentences.\n",
    "    The output shape should match with the embedding dimension.\n",
    "    \n",
    "    Input:\n",
    "        X: array of sentences (strings), of shape (m, 1), i.e. m samples.\n",
    "        word_to_index: a dictionary called for converting word into index\n",
    "        Tx: maximum number of words in a sentence. Sentences exceeds this number will be cut \n",
    "    \n",
    "    Returns:\n",
    "    X_indices: array of indices corresponding to words in the sentences from X, of shape (m, Tx)\n",
    "    \"\"\"\n",
    "    \n",
    "    m = X.shape[0] # number of data in the dataset\n",
    "    \n",
    "    # Initialize X_indices as a numpy matrix of zeros and the correct shape \n",
    "    X_indices = np.zeros((m, Tx))\n",
    "    \n",
    "    for i in range(m):\n",
    "        sentence_words = X[i].split() #split sentence into a list of word\n",
    "        sentence_words = sentence_words[0:Tx] # Cut all Words Once it search the maximun lenght Tx\n",
    "        \n",
    "        j = 0 # initialize the counter of word in every sentence\n",
    "        \n",
    "        for w in sentence_words: # convert word into index and input in the (i,j) elements of X_indices\n",
    "            try: # try to see if the word is in the glove corpus\n",
    "                X_indices[i, j] = word_to_index[w]\n",
    "                j = j+1\n",
    "            except: #if not, skip it and left that (i,j) elements as 0\n",
    "                j = j+1\n",
    "    \n",
    "    return X_indices"
   ]
  },
  {
   "cell_type": "code",
   "execution_count": 4,
   "id": "562126a2",
   "metadata": {},
   "outputs": [],
   "source": [
    "def convert_to_one_hot(Y, C):\n",
    "    Y = np.eye(C)[Y.astype(int)]\n",
    "    return Y"
   ]
  },
  {
   "cell_type": "code",
   "execution_count": 5,
   "id": "c6c4d3ef",
   "metadata": {},
   "outputs": [],
   "source": [
    "import numpy as np\n",
    "glove_file = \"./Raw data/glove.6B.300d.txt\"\n",
    "\n",
    "word_to_index, index_to_word, word_to_vec_map = read_glove_vecs(glove_file)\n",
    "\n",
    "from sklearn.model_selection import train_test_split\n",
    "X_train, X_test, y_train, y_test = train_test_split(df.text, df.label, test_size = 100000, random_state=8762)\n",
    "\n",
    "X_train_text = X_train.to_numpy()\n",
    "X_train_indixes = sentences_to_indices(X_train_text, word_to_index, Tx = 50)  \n",
    "\n",
    "X_test_text = X_test.to_numpy()\n",
    "X_test_indixes = sentences_to_indices(X_test_text, word_to_index, Tx = 50)  \n",
    "\n",
    "y_train = y_train.to_numpy()\n",
    "y_test = y_test.to_numpy()\n",
    "\n",
    "Y_oh_train = convert_to_one_hot(y_train, C = 2)\n",
    "Y_oh_test = convert_to_one_hot(y_test, C = 2)"
   ]
  },
  {
   "cell_type": "code",
   "execution_count": 6,
   "id": "bf11680d",
   "metadata": {},
   "outputs": [],
   "source": [
    "import keras \n",
    "from keras.layers.embeddings import Embedding\n",
    "from keras import callbacks\n",
    "from keras.optimizers import Adam\n",
    "from keras.models import Model\n",
    "from keras.layers import Dense, Input, SimpleRNN, Bidirectional, Dropout, BatchNormalization, LSTM\n",
    "from matplotlib import pyplot as plt"
   ]
  },
  {
   "cell_type": "markdown",
   "id": "633dbd68",
   "metadata": {},
   "source": [
    "# initial model:\n",
    "1 layer bi-directional RNN (64)x2 hidden state followed by a dense layer"
   ]
  },
  {
   "cell_type": "code",
   "execution_count": 7,
   "id": "ed27f6d1",
   "metadata": {},
   "outputs": [],
   "source": [
    "def pretrained_embedding_layer(word_to_vec_map, word_to_index):\n",
    "    \n",
    "    vocab_len = len(word_to_index) + 1    # adding 1 to fit Keras embedding, special requirement for using Keras\n",
    "    emb_dim = word_to_vec_map[\"apple\"].shape[0]      # get dimensionality pre-trained embedding\n",
    "    \n",
    "    # Initialize the embedding matrix \n",
    "    emb_matrix = np.zeros((vocab_len, emb_dim))\n",
    "    \n",
    "    # for every word, idx pair in word_to_index dictionary, map it to its vector representation  \n",
    "    # and store in the emb matrix\n",
    "    for word, idx in word_to_index.items():\n",
    "        emb_matrix[idx, :] = word_to_vec_map[word]\n",
    "\n",
    "    # Define Keras embedding layer and set it non-trainable.\n",
    "    embedding_layer = Embedding(vocab_len, emb_dim, trainable = False)\n",
    "\n",
    "    # Build the embedding layer instance\n",
    "    embedding_layer.build((None,)) # None is used for \"Dont know how many data, m samples, will be pass through\"\n",
    "    \n",
    "    # Set the weights of the embedding layer to the embedding matrix\n",
    "    embedding_layer.set_weights([emb_matrix])\n",
    "    \n",
    "    return embedding_layer\n",
    "\n",
    "embedding_layer = pretrained_embedding_layer(word_to_vec_map, word_to_index)"
   ]
  },
  {
   "cell_type": "code",
   "execution_count": 9,
   "id": "fefbf1be",
   "metadata": {},
   "outputs": [],
   "source": [
    "def Initial_model(input_shape, word_to_vec_map, word_to_index):\n",
    "\n",
    "    # Define sentence_indices as the input of the graph.\n",
    "    sentence_indices = Input(shape = (input_shape), dtype = \"int32\")\n",
    "    \n",
    "    # Create the embedding layer pretrained with GloVe Vectors\n",
    "    embedding_layer = pretrained_embedding_layer(word_to_vec_map, word_to_index)\n",
    "    \n",
    "    # Propagate sentence_indices through embedding layer\n",
    "    embeddings = embedding_layer(sentence_indices)  \n",
    "    \n",
    "    # Propagate the embeddings through the first bidirectional LSTM layer with 128 hiden unit each\n",
    "    # The returned output is a batch of sequences.\n",
    "    X = Bidirectional(SimpleRNN(64, return_sequences = False))(embeddings)\n",
    "\n",
    "    # Propagate X through a Dense layer into 2 units\n",
    "    X = Dense(2, activation = \"sigmoid\")(X)\n",
    "    \n",
    "    # Create Model instance which converts sentence_indices into X.\n",
    "    model = Model(inputs = sentence_indices, outputs = X)\n",
    "    \n",
    "    return model"
   ]
  },
  {
   "cell_type": "code",
   "execution_count": 10,
   "id": "fef1e062",
   "metadata": {},
   "outputs": [
    {
     "name": "stdout",
     "output_type": "stream",
     "text": [
      "Model: \"functional_1\"\n",
      "_________________________________________________________________\n",
      "Layer (type)                 Output Shape              Param #   \n",
      "=================================================================\n",
      "input_1 (InputLayer)         [(None, 50)]              0         \n",
      "_________________________________________________________________\n",
      "embedding_1 (Embedding)      (None, 50, 300)           120000300 \n",
      "_________________________________________________________________\n",
      "bidirectional (Bidirectional (None, 128)               46720     \n",
      "_________________________________________________________________\n",
      "dense (Dense)                (None, 2)                 258       \n",
      "=================================================================\n",
      "Total params: 120,047,278\n",
      "Trainable params: 46,978\n",
      "Non-trainable params: 120,000,300\n",
      "_________________________________________________________________\n",
      "Epoch 1/50\n",
      "655/655 [==============================] - ETA: 0s - loss: 0.4223 - accuracy: 0.8015WARNING:tensorflow:From /home/pai/lib/python3.6/site-packages/tensorflow/python/training/tracking/tracking.py:111: Model.state_updates (from tensorflow.python.keras.engine.training) is deprecated and will be removed in a future version.\n",
      "Instructions for updating:\n",
      "This property should not be used in TensorFlow 2.0, as updates are applied automatically.\n",
      "WARNING:tensorflow:From /home/pai/lib/python3.6/site-packages/tensorflow/python/training/tracking/tracking.py:111: Layer.updates (from tensorflow.python.keras.engine.base_layer) is deprecated and will be removed in a future version.\n",
      "Instructions for updating:\n",
      "This property should not be used in TensorFlow 2.0, as updates are applied automatically.\n",
      "INFO:tensorflow:Assets written to: ./Model_callback/models/1L-RNN-64/assets\n",
      "655/655 [==============================] - 78s 119ms/step - loss: 0.4223 - accuracy: 0.8015 - val_loss: 0.3666 - val_accuracy: 0.8329\n",
      "Epoch 2/50\n",
      "655/655 [==============================] - ETA: 0s - loss: 0.3540 - accuracy: 0.8398INFO:tensorflow:Assets written to: ./Model_callback/models/1L-RNN-64/assets\n",
      "655/655 [==============================] - 78s 119ms/step - loss: 0.3540 - accuracy: 0.8398 - val_loss: 0.3428 - val_accuracy: 0.8448\n",
      "Epoch 3/50\n",
      "655/655 [==============================] - ETA: 0s - loss: 0.3347 - accuracy: 0.8500INFO:tensorflow:Assets written to: ./Model_callback/models/1L-RNN-64/assets\n",
      "655/655 [==============================] - 78s 118ms/step - loss: 0.3347 - accuracy: 0.8500 - val_loss: 0.3266 - val_accuracy: 0.8539\n",
      "Epoch 4/50\n",
      "655/655 [==============================] - ETA: 0s - loss: 0.3239 - accuracy: 0.8558INFO:tensorflow:Assets written to: ./Model_callback/models/1L-RNN-64/assets\n",
      "655/655 [==============================] - 78s 119ms/step - loss: 0.3239 - accuracy: 0.8558 - val_loss: 0.3164 - val_accuracy: 0.8596\n",
      "Epoch 5/50\n",
      "655/655 [==============================] - ETA: 0s - loss: 0.3155 - accuracy: 0.8603INFO:tensorflow:Assets written to: ./Model_callback/models/1L-RNN-64/assets\n",
      "655/655 [==============================] - 78s 119ms/step - loss: 0.3155 - accuracy: 0.8603 - val_loss: 0.3100 - val_accuracy: 0.8627\n",
      "Epoch 6/50\n",
      "655/655 [==============================] - 72s 109ms/step - loss: 0.3101 - accuracy: 0.8632 - val_loss: 0.3115 - val_accuracy: 0.8614\n",
      "Epoch 7/50\n",
      "655/655 [==============================] - ETA: 0s - loss: 0.3051 - accuracy: 0.8658INFO:tensorflow:Assets written to: ./Model_callback/models/1L-RNN-64/assets\n",
      "655/655 [==============================] - 78s 119ms/step - loss: 0.3051 - accuracy: 0.8658 - val_loss: 0.3009 - val_accuracy: 0.8676\n",
      "Epoch 8/50\n",
      "655/655 [==============================] - ETA: 0s - loss: 0.3019 - accuracy: 0.8674INFO:tensorflow:Assets written to: ./Model_callback/models/1L-RNN-64/assets\n",
      "655/655 [==============================] - 78s 119ms/step - loss: 0.3019 - accuracy: 0.8674 - val_loss: 0.2984 - val_accuracy: 0.8690\n",
      "Epoch 9/50\n",
      "655/655 [==============================] - ETA: 0s - loss: 0.2988 - accuracy: 0.8690INFO:tensorflow:Assets written to: ./Model_callback/models/1L-RNN-64/assets\n",
      "655/655 [==============================] - 78s 119ms/step - loss: 0.2988 - accuracy: 0.8690 - val_loss: 0.2954 - val_accuracy: 0.8703\n",
      "Epoch 10/50\n",
      "655/655 [==============================] - 72s 109ms/step - loss: 0.2966 - accuracy: 0.8700 - val_loss: 0.2958 - val_accuracy: 0.8701\n",
      "Epoch 11/50\n",
      "655/655 [==============================] - 72s 110ms/step - loss: 0.2950 - accuracy: 0.8709 - val_loss: 0.3017 - val_accuracy: 0.8671\n",
      "Epoch 12/50\n",
      "655/655 [==============================] - ETA: 0s - loss: 0.2941 - accuracy: 0.8713INFO:tensorflow:Assets written to: ./Model_callback/models/1L-RNN-64/assets\n",
      "655/655 [==============================] - 78s 119ms/step - loss: 0.2941 - accuracy: 0.8713 - val_loss: 0.2898 - val_accuracy: 0.8736\n",
      "Epoch 13/50\n",
      "655/655 [==============================] - ETA: 0s - loss: 0.2909 - accuracy: 0.8730INFO:tensorflow:Assets written to: ./Model_callback/models/1L-RNN-64/assets\n",
      "655/655 [==============================] - 78s 119ms/step - loss: 0.2909 - accuracy: 0.8730 - val_loss: 0.2884 - val_accuracy: 0.8736\n",
      "Epoch 14/50\n",
      "655/655 [==============================] - ETA: 0s - loss: 0.2894 - accuracy: 0.8739INFO:tensorflow:Assets written to: ./Model_callback/models/1L-RNN-64/assets\n",
      "655/655 [==============================] - 78s 119ms/step - loss: 0.2894 - accuracy: 0.8739 - val_loss: 0.2878 - val_accuracy: 0.8743\n",
      "Epoch 15/50\n",
      "655/655 [==============================] - 72s 109ms/step - loss: 0.2880 - accuracy: 0.8746 - val_loss: 0.2954 - val_accuracy: 0.8706\n",
      "Epoch 16/50\n",
      "655/655 [==============================] - ETA: 0s - loss: 0.2864 - accuracy: 0.8754INFO:tensorflow:Assets written to: ./Model_callback/models/1L-RNN-64/assets\n",
      "655/655 [==============================] - 78s 119ms/step - loss: 0.2864 - accuracy: 0.8754 - val_loss: 0.2873 - val_accuracy: 0.8745\n",
      "Epoch 17/50\n",
      "655/655 [==============================] - ETA: 0s - loss: 0.2859 - accuracy: 0.8756INFO:tensorflow:Assets written to: ./Model_callback/models/1L-RNN-64/assets\n",
      "655/655 [==============================] - 78s 119ms/step - loss: 0.2859 - accuracy: 0.8756 - val_loss: 0.2854 - val_accuracy: 0.8747\n",
      "Epoch 18/50\n",
      "655/655 [==============================] - 72s 109ms/step - loss: 0.2848 - accuracy: 0.8762 - val_loss: 0.2868 - val_accuracy: 0.8756\n",
      "Epoch 19/50\n",
      "655/655 [==============================] - 72s 109ms/step - loss: 0.2835 - accuracy: 0.8768 - val_loss: 0.2909 - val_accuracy: 0.8726\n",
      "Epoch 20/50\n",
      "655/655 [==============================] - 71s 109ms/step - loss: 0.2828 - accuracy: 0.8772 - val_loss: 0.2866 - val_accuracy: 0.8753\n",
      "Epoch 21/50\n",
      "655/655 [==============================] - ETA: 0s - loss: 0.2813 - accuracy: 0.8779INFO:tensorflow:Assets written to: ./Model_callback/models/1L-RNN-64/assets\n",
      "655/655 [==============================] - 78s 119ms/step - loss: 0.2813 - accuracy: 0.8779 - val_loss: 0.2827 - val_accuracy: 0.8774\n",
      "Epoch 22/50\n",
      "655/655 [==============================] - 72s 110ms/step - loss: 0.2810 - accuracy: 0.8780 - val_loss: 0.2874 - val_accuracy: 0.8759\n",
      "Epoch 23/50\n",
      "655/655 [==============================] - ETA: 0s - loss: 0.2806 - accuracy: 0.8782INFO:tensorflow:Assets written to: ./Model_callback/models/1L-RNN-64/assets\n",
      "655/655 [==============================] - 78s 119ms/step - loss: 0.2806 - accuracy: 0.8782 - val_loss: 0.2804 - val_accuracy: 0.8783\n",
      "Epoch 24/50\n",
      "655/655 [==============================] - ETA: 0s - loss: 0.2791 - accuracy: 0.8789INFO:tensorflow:Assets written to: ./Model_callback/models/1L-RNN-64/assets\n",
      "655/655 [==============================] - 78s 119ms/step - loss: 0.2791 - accuracy: 0.8789 - val_loss: 0.2796 - val_accuracy: 0.8786\n",
      "Epoch 25/50\n",
      "655/655 [==============================] - 72s 109ms/step - loss: 0.2788 - accuracy: 0.8792 - val_loss: 0.2805 - val_accuracy: 0.8779\n",
      "Epoch 26/50\n",
      "655/655 [==============================] - 72s 110ms/step - loss: 0.2778 - accuracy: 0.8797 - val_loss: 0.2851 - val_accuracy: 0.8755\n",
      "Epoch 27/50\n",
      "655/655 [==============================] - ETA: 0s - loss: 0.2775 - accuracy: 0.8798INFO:tensorflow:Assets written to: ./Model_callback/models/1L-RNN-64/assets\n",
      "655/655 [==============================] - 78s 119ms/step - loss: 0.2775 - accuracy: 0.8798 - val_loss: 0.2778 - val_accuracy: 0.8792\n",
      "Epoch 28/50\n",
      "655/655 [==============================] - 72s 109ms/step - loss: 0.2778 - accuracy: 0.8796 - val_loss: 0.3086 - val_accuracy: 0.8608\n",
      "Epoch 29/50\n",
      "655/655 [==============================] - 72s 109ms/step - loss: 0.2862 - accuracy: 0.8753 - val_loss: 0.2821 - val_accuracy: 0.8780\n",
      "Epoch 30/50\n",
      "655/655 [==============================] - 72s 109ms/step - loss: 0.2808 - accuracy: 0.8783 - val_loss: 0.2841 - val_accuracy: 0.8769\n",
      "Epoch 31/50\n",
      "655/655 [==============================] - 72s 110ms/step - loss: 0.2783 - accuracy: 0.8795 - val_loss: 0.2914 - val_accuracy: 0.8727\n",
      "Epoch 32/50\n",
      "655/655 [==============================] - 72s 110ms/step - loss: 0.2768 - accuracy: 0.8803 - val_loss: 0.2807 - val_accuracy: 0.8776\n"
     ]
    }
   ],
   "source": [
    "model = Initial_model((X_test_indixes[0].shape), word_to_vec_map, word_to_index)\n",
    "model.summary()\n",
    "\n",
    "my_callbacks = [callbacks.ModelCheckpoint(filepath=\"./Model_callback/models/1L-RNN-64\",\n",
    "                                          monitor='val_loss',\n",
    "                                          mode='auto',\n",
    "                                          save_best_only= True),\n",
    "                callbacks.CSVLogger(\"./Model_callback/logger/1L-RNN-64\"), \n",
    "                callbacks.EarlyStopping(monitor=\"val_loss\",patience=5)]\n",
    "\n",
    "opt = Adam() \n",
    "model.compile(loss='binary_crossentropy', metrics=['accuracy'], optimizer = opt)\n",
    "history_1L_RNN_64 = model.fit(X_train_indixes, Y_oh_train, epochs = 50, batch_size = 8192, \n",
    "                                            validation_split =  0.02, shuffle=True, callbacks=my_callbacks)"
   ]
  },
  {
   "cell_type": "code",
   "execution_count": 11,
   "id": "9c1f1776",
   "metadata": {},
   "outputs": [
    {
     "data": {
      "image/png": "[encoded data removed]",
      "text/plain": [
       "<Figure size 432x288 with 1 Axes>"
      ]
     },
     "metadata": {
      "needs_background": "light"
     },
     "output_type": "display_data"
    }
   ],
   "source": [
    "plt.plot(history_1L_RNN_64.history['loss'])\n",
    "plt.plot(history_1L_RNN_64.history['val_loss'])\n",
    "plt.title('1L-RNN-64 validation loss')\n",
    "plt.ylabel('loss')\n",
    "plt.xlabel('epoch')\n",
    "plt.legend(['loss', 'val_loss'], loc='upper right')\n",
    "plt.show()"
   ]
  },
  {
   "cell_type": "code",
   "execution_count": 24,
   "id": "9f36d0ef",
   "metadata": {},
   "outputs": [
    {
     "data": {
      "image/png": "[encoded data removed]",
      "text/plain": [
       "<Figure size 432x288 with 1 Axes>"
      ]
     },
     "metadata": {
      "needs_background": "light"
     },
     "output_type": "display_data"
    }
   ],
   "source": [
    "plt.plot(history_1L_RNN_64.history['accuracy'])\n",
    "plt.plot(history_1L_RNN_64.history['val_accuracy'])\n",
    "plt.title('1L-RNN-64 validation accuracy')\n",
    "plt.ylabel('loss')\n",
    "plt.xlabel('epoch')\n",
    "plt.legend(['accuracy', 'val_accuracy'], loc='lower right')\n",
    "plt.show()"
   ]
  },
  {
   "cell_type": "code",
   "execution_count": 20,
   "id": "d00e84e0",
   "metadata": {},
   "outputs": [
    {
     "name": "stdout",
     "output_type": "stream",
     "text": [
      "171060/171060 [==============================] - 1342s 8ms/step - loss: 0.2767 - accuracy: 0.8802\n",
      "\n",
      "Accurary on train set =  0.8802411556243896\n",
      "3125/3125 [==============================] - 23s 7ms/step - loss: 0.2860 - accuracy: 0.8762\n",
      "\n",
      "Accurary on test set =  0.8762000203132629\n"
     ]
    }
   ],
   "source": [
    "loss, acc = model.evaluate(X_train_indixes, Y_oh_train)\n",
    "print()\n",
    "print(\"Accurary on train set = \", acc)\n",
    "\n",
    "loss, acc = model.evaluate(X_test_indixes, Y_oh_test)\n",
    "print()\n",
    "print(\"Accurary on test set = \", acc)"
   ]
  },
  {
   "cell_type": "markdown",
   "id": "8ee3724d",
   "metadata": {},
   "source": [
    "# LSTM model"
   ]
  },
  {
   "cell_type": "code",
   "execution_count": 25,
   "id": "9f77808a",
   "metadata": {},
   "outputs": [],
   "source": [
    "def Initial_model(input_shape, word_to_vec_map, word_to_index):\n",
    "\n",
    "    # Define sentence_indices as the input of the graph.\n",
    "    sentence_indices = Input(shape = (input_shape), dtype = \"int32\")\n",
    "    \n",
    "    # Create the embedding layer pretrained with GloVe Vectors\n",
    "    embedding_layer = pretrained_embedding_layer(word_to_vec_map, word_to_index)\n",
    "    \n",
    "    # Propagate sentence_indices through embedding layer\n",
    "    embeddings = embedding_layer(sentence_indices)  \n",
    "    \n",
    "    # Propagate the embeddings through the first bidirectional LSTM layer with 128 hiden unit each\n",
    "    # The returned output is a batch of sequences.\n",
    "    X = Bidirectional(LSTM(128, return_sequences = False))(embeddings)\n",
    "\n",
    "    # Propagate X through a Dense layer into 2 units\n",
    "    X = Dense(2, activation = \"sigmoid\")(X)\n",
    "    \n",
    "    # Create Model instance which converts sentence_indices into X.\n",
    "    model = Model(inputs = sentence_indices, outputs = X)\n",
    "    \n",
    "    return model"
   ]
  },
  {
   "cell_type": "code",
   "execution_count": 26,
   "id": "63ba1cb9",
   "metadata": {},
   "outputs": [
    {
     "name": "stdout",
     "output_type": "stream",
     "text": [
      "Model: \"functional_3\"\n",
      "_________________________________________________________________\n",
      "Layer (type)                 Output Shape              Param #   \n",
      "=================================================================\n",
      "input_2 (InputLayer)         [(None, 50)]              0         \n",
      "_________________________________________________________________\n",
      "embedding_2 (Embedding)      (None, 50, 300)           120000300 \n",
      "_________________________________________________________________\n",
      "bidirectional_1 (Bidirection (None, 256)               439296    \n",
      "_________________________________________________________________\n",
      "dense_1 (Dense)              (None, 2)                 514       \n",
      "=================================================================\n",
      "Total params: 120,440,110\n",
      "Trainable params: 439,810\n",
      "Non-trainable params: 120,000,300\n",
      "_________________________________________________________________\n",
      "Epoch 1/50\n",
      "655/655 [==============================] - ETA: 0s - loss: 0.3404 - accuracy: 0.8454INFO:tensorflow:Assets written to: ./Model_callback/models/1L-LSTM128/assets\n",
      "655/655 [==============================] - 150s 229ms/step - loss: 0.3404 - accuracy: 0.8454 - val_loss: 0.2905 - val_accuracy: 0.8723\n",
      "Epoch 2/50\n",
      "655/655 [==============================] - ETA: 0s - loss: 0.2817 - accuracy: 0.8772INFO:tensorflow:Assets written to: ./Model_callback/models/1L-LSTM128/assets\n",
      "655/655 [==============================] - 149s 228ms/step - loss: 0.2817 - accuracy: 0.8772 - val_loss: 0.2708 - val_accuracy: 0.8828\n",
      "Epoch 3/50\n",
      "655/655 [==============================] - ETA: 0s - loss: 0.2662 - accuracy: 0.8849INFO:tensorflow:Assets written to: ./Model_callback/models/1L-LSTM128/assets\n",
      "655/655 [==============================] - 148s 226ms/step - loss: 0.2662 - accuracy: 0.8849 - val_loss: 0.2608 - val_accuracy: 0.8874\n",
      "Epoch 4/50\n",
      "655/655 [==============================] - ETA: 0s - loss: 0.2569 - accuracy: 0.8894INFO:tensorflow:Assets written to: ./Model_callback/models/1L-LSTM128/assets\n",
      "655/655 [==============================] - 148s 226ms/step - loss: 0.2569 - accuracy: 0.8894 - val_loss: 0.2559 - val_accuracy: 0.8906\n",
      "Epoch 5/50\n",
      "655/655 [==============================] - ETA: 0s - loss: 0.2496 - accuracy: 0.8930INFO:tensorflow:Assets written to: ./Model_callback/models/1L-LSTM128/assets\n",
      "655/655 [==============================] - 150s 229ms/step - loss: 0.2496 - accuracy: 0.8930 - val_loss: 0.2525 - val_accuracy: 0.8921\n",
      "Epoch 6/50\n",
      "655/655 [==============================] - ETA: 0s - loss: 0.2440 - accuracy: 0.8957INFO:tensorflow:Assets written to: ./Model_callback/models/1L-LSTM128/assets\n",
      "655/655 [==============================] - 150s 229ms/step - loss: 0.2440 - accuracy: 0.8957 - val_loss: 0.2473 - val_accuracy: 0.8951\n",
      "Epoch 7/50\n",
      "655/655 [==============================] - 135s 207ms/step - loss: 0.2395 - accuracy: 0.8978 - val_loss: 0.2513 - val_accuracy: 0.8930\n",
      "Epoch 8/50\n",
      "655/655 [==============================] - ETA: 0s - loss: 0.2354 - accuracy: 0.8998INFO:tensorflow:Assets written to: ./Model_callback/models/1L-LSTM128/assets\n",
      "655/655 [==============================] - 148s 227ms/step - loss: 0.2354 - accuracy: 0.8998 - val_loss: 0.2433 - val_accuracy: 0.8969\n",
      "Epoch 9/50\n",
      "655/655 [==============================] - 135s 206ms/step - loss: 0.2319 - accuracy: 0.9014 - val_loss: 0.2441 - val_accuracy: 0.8962\n",
      "Epoch 10/50\n",
      "655/655 [==============================] - ETA: 0s - loss: 0.2286 - accuracy: 0.9030INFO:tensorflow:Assets written to: ./Model_callback/models/1L-LSTM128/assets\n",
      "655/655 [==============================] - 150s 229ms/step - loss: 0.2286 - accuracy: 0.9030 - val_loss: 0.2431 - val_accuracy: 0.8971\n",
      "Epoch 11/50\n",
      "655/655 [==============================] - ETA: 0s - loss: 0.2256 - accuracy: 0.9044INFO:tensorflow:Assets written to: ./Model_callback/models/1L-LSTM128/assets\n",
      "655/655 [==============================] - 150s 229ms/step - loss: 0.2256 - accuracy: 0.9044 - val_loss: 0.2396 - val_accuracy: 0.8978\n",
      "Epoch 12/50\n",
      "655/655 [==============================] - 135s 207ms/step - loss: 0.2226 - accuracy: 0.9059 - val_loss: 0.2413 - val_accuracy: 0.8975\n",
      "Epoch 13/50\n",
      "655/655 [==============================] - ETA: 0s - loss: 0.2202 - accuracy: 0.9070INFO:tensorflow:Assets written to: ./Model_callback/models/1L-LSTM128/assets\n",
      "655/655 [==============================] - 148s 227ms/step - loss: 0.2202 - accuracy: 0.9070 - val_loss: 0.2387 - val_accuracy: 0.8991\n",
      "Epoch 14/50\n",
      "655/655 [==============================] - 135s 206ms/step - loss: 0.2177 - accuracy: 0.9081 - val_loss: 0.2426 - val_accuracy: 0.8977\n",
      "Epoch 15/50\n",
      "655/655 [==============================] - 137s 209ms/step - loss: 0.2156 - accuracy: 0.9092 - val_loss: 0.2393 - val_accuracy: 0.8994\n",
      "Epoch 16/50\n",
      "655/655 [==============================] - 137s 209ms/step - loss: 0.2133 - accuracy: 0.9103 - val_loss: 0.2407 - val_accuracy: 0.8993\n",
      "Epoch 17/50\n",
      "655/655 [==============================] - 135s 207ms/step - loss: 0.2114 - accuracy: 0.9112 - val_loss: 0.2408 - val_accuracy: 0.8995\n",
      "Epoch 18/50\n",
      "655/655 [==============================] - 135s 206ms/step - loss: 0.2092 - accuracy: 0.9123 - val_loss: 0.2412 - val_accuracy: 0.8991\n"
     ]
    }
   ],
   "source": [
    "model = Initial_model((X_test_indixes[0].shape), word_to_vec_map, word_to_index)\n",
    "model.summary()\n",
    "\n",
    "my_callbacks = [callbacks.ModelCheckpoint(filepath=\"./Model_callback/models/1L-LSTM128\",\n",
    "                                          monitor='val_loss',\n",
    "                                          mode='auto',\n",
    "                                          save_best_only= True),\n",
    "                callbacks.CSVLogger(\"./Model_callback/logger/1L-LSTM128\"), \n",
    "                callbacks.EarlyStopping(monitor=\"val_loss\",patience=5)]\n",
    "\n",
    "opt = Adam() \n",
    "model.compile(loss='binary_crossentropy', metrics=['accuracy'], optimizer = opt)\n",
    "history_1L_LSTM128 = model.fit(X_train_indixes, Y_oh_train, epochs = 50, batch_size = 8192, \n",
    "                                            validation_split =  0.02, shuffle=True, callbacks=my_callbacks)"
   ]
  },
  {
   "cell_type": "code",
   "execution_count": 27,
   "id": "9074cd91",
   "metadata": {},
   "outputs": [
    {
     "data": {
      "image/png": "[encoded data removed]",
      "text/plain": [
       "<Figure size 432x288 with 1 Axes>"
      ]
     },
     "metadata": {
      "needs_background": "light"
     },
     "output_type": "display_data"
    }
   ],
   "source": [
    "plt.plot(history_1L_LSTM128.history['loss'])\n",
    "plt.plot(history_1L_LSTM128.history['val_loss'])\n",
    "plt.title('1L-LSTM128 validation loss')\n",
    "plt.ylabel('loss')\n",
    "plt.xlabel('epoch')\n",
    "plt.legend(['loss', 'val_loss'], loc='upper right')\n",
    "plt.show()"
   ]
  },
  {
   "cell_type": "code",
   "execution_count": 30,
   "id": "30067c68",
   "metadata": {},
   "outputs": [
    {
     "data": {
      "image/png": "[encoded data removed]",
      "text/plain": [
       "<Figure size 432x288 with 1 Axes>"
      ]
     },
     "metadata": {
      "needs_background": "light"
     },
     "output_type": "display_data"
    }
   ],
   "source": [
    "plt.plot(history_1L_LSTM128.history['accuracy'])\n",
    "plt.plot(history_1L_LSTM128.history['val_accuracy'])\n",
    "plt.title('1L-LSTM128 validation accuracy')\n",
    "plt.ylabel('loss')\n",
    "plt.xlabel('epoch')\n",
    "plt.legend(['accuracy', 'val_accuracy'], loc='lower right')\n",
    "plt.show()"
   ]
  },
  {
   "cell_type": "code",
   "execution_count": 31,
   "id": "4ba118cd",
   "metadata": {},
   "outputs": [
    {
     "name": "stdout",
     "output_type": "stream",
     "text": [
      "171060/171060 [==============================] - 641s 4ms/step - loss: 0.2036 - accuracy: 0.9152\n",
      "\n",
      "Accurary on train set =  0.9151943922042847\n",
      "3125/3125 [==============================] - 12s 4ms/step - loss: 0.2432 - accuracy: 0.8970\n",
      "\n",
      "Accurary on test set =  0.8970100283622742\n"
     ]
    }
   ],
   "source": [
    "loss, acc = model.evaluate(X_train_indixes, Y_oh_train)\n",
    "print()\n",
    "print(\"Accurary on train set = \", acc)\n",
    "\n",
    "loss, acc = model.evaluate(X_test_indixes, Y_oh_test)\n",
    "print()\n",
    "print(\"Accurary on test set = \", acc)"
   ]
  },
  {
   "cell_type": "markdown",
   "id": "ad783d50",
   "metadata": {},
   "source": [
    "# 2-layers 128/128 LSTM"
   ]
  },
  {
   "cell_type": "code",
   "execution_count": 32,
   "id": "5f949786",
   "metadata": {},
   "outputs": [],
   "source": [
    "def Initial_model(input_shape, word_to_vec_map, word_to_index):\n",
    "\n",
    "    # Define sentence_indices as the input of the graph.\n",
    "    sentence_indices = Input(shape = (input_shape), dtype = \"int32\")\n",
    "    \n",
    "    # Create the embedding layer pretrained with GloVe Vectors\n",
    "    embedding_layer = pretrained_embedding_layer(word_to_vec_map, word_to_index)\n",
    "    \n",
    "    # Propagate sentence_indices through embedding layer\n",
    "    embeddings = embedding_layer(sentence_indices)  \n",
    "    \n",
    "    # Propagate the embeddings through the first bidirectional LSTM layer with 128 hiden unit each\n",
    "    # The returned output is a batch of sequences.\n",
    "    X = Bidirectional(LSTM(128, return_sequences = True))(embeddings)\n",
    "    \n",
    "    # Propagate X through the Dropout layer with 0.3 Porp\n",
    "    X = Dropout(rate = 0.3)(X)\n",
    "\n",
    "    # Propagate X through the BatchNormalization layer\n",
    "    X = BatchNormalization()(X)\n",
    "    \n",
    "    # Propagate the embeddings through the first bidirectional LSTM layer with 128 hiden unit each\n",
    "    # The returned output is a batch of sequences.\n",
    "    X = Bidirectional(LSTM(128, return_sequences = False))(X)\n",
    "    \n",
    "    # Propagate X through the Dropout layer with 0.3 Porp\n",
    "    X = Dropout(rate = 0.3)(X)\n",
    "    \n",
    "    # Propagate X through a Dense layer into 2 units\n",
    "    X = Dense(2, activation = \"sigmoid\")(X)\n",
    "    \n",
    "    # Create Model instance which converts sentence_indices into X.\n",
    "    model = Model(inputs = sentence_indices, outputs = X)\n",
    "    \n",
    "    return model"
   ]
  },
  {
   "cell_type": "code",
   "execution_count": 33,
   "id": "b17e7a64",
   "metadata": {},
   "outputs": [
    {
     "name": "stdout",
     "output_type": "stream",
     "text": [
      "Model: \"functional_5\"\n",
      "_________________________________________________________________\n",
      "Layer (type)                 Output Shape              Param #   \n",
      "=================================================================\n",
      "input_3 (InputLayer)         [(None, 50)]              0         \n",
      "_________________________________________________________________\n",
      "embedding_3 (Embedding)      (None, 50, 300)           120000300 \n",
      "_________________________________________________________________\n",
      "bidirectional_2 (Bidirection (None, 50, 256)           439296    \n",
      "_________________________________________________________________\n",
      "dropout (Dropout)            (None, 50, 256)           0         \n",
      "_________________________________________________________________\n",
      "batch_normalization (BatchNo (None, 50, 256)           1024      \n",
      "_________________________________________________________________\n",
      "bidirectional_3 (Bidirection (None, 256)               394240    \n",
      "_________________________________________________________________\n",
      "dropout_1 (Dropout)          (None, 256)               0         \n",
      "_________________________________________________________________\n",
      "dense_2 (Dense)              (None, 2)                 514       \n",
      "=================================================================\n",
      "Total params: 120,835,374\n",
      "Trainable params: 834,562\n",
      "Non-trainable params: 120,000,812\n",
      "_________________________________________________________________\n",
      "Epoch 1/50\n",
      "655/655 [==============================] - ETA: 0s - loss: 0.3133 - accuracy: 0.8599INFO:tensorflow:Assets written to: ./Model_callback/models/2L-LSTM128_128/assets\n",
      "655/655 [==============================] - 248s 378ms/step - loss: 0.3133 - accuracy: 0.8599 - val_loss: 0.2721 - val_accuracy: 0.8826\n",
      "Epoch 2/50\n",
      "655/655 [==============================] - ETA: 0s - loss: 0.2634 - accuracy: 0.8861INFO:tensorflow:Assets written to: ./Model_callback/models/2L-LSTM128_128/assets\n",
      "655/655 [==============================] - 247s 377ms/step - loss: 0.2634 - accuracy: 0.8861 - val_loss: 0.2536 - val_accuracy: 0.8916\n",
      "Epoch 3/50\n",
      "655/655 [==============================] - ETA: 0s - loss: 0.2494 - accuracy: 0.8930INFO:tensorflow:Assets written to: ./Model_callback/models/2L-LSTM128_128/assets\n",
      "655/655 [==============================] - 247s 377ms/step - loss: 0.2494 - accuracy: 0.8930 - val_loss: 0.2485 - val_accuracy: 0.8944\n",
      "Epoch 4/50\n",
      "655/655 [==============================] - 222s 339ms/step - loss: 0.2407 - accuracy: 0.8970 - val_loss: 0.2486 - val_accuracy: 0.8944\n",
      "Epoch 5/50\n",
      "655/655 [==============================] - 222s 339ms/step - loss: 0.2341 - accuracy: 0.9003 - val_loss: 0.2545 - val_accuracy: 0.8930\n",
      "Epoch 6/50\n",
      "655/655 [==============================] - ETA: 0s - loss: 0.2291 - accuracy: 0.9028INFO:tensorflow:Assets written to: ./Model_callback/models/2L-LSTM128_128/assets\n",
      "655/655 [==============================] - 247s 377ms/step - loss: 0.2291 - accuracy: 0.9028 - val_loss: 0.2401 - val_accuracy: 0.8984\n",
      "Epoch 7/50\n",
      "655/655 [==============================] - ETA: 0s - loss: 0.2246 - accuracy: 0.9048INFO:tensorflow:Assets written to: ./Model_callback/models/2L-LSTM128_128/assets\n",
      "655/655 [==============================] - 247s 377ms/step - loss: 0.2246 - accuracy: 0.9048 - val_loss: 0.2353 - val_accuracy: 0.9010\n",
      "Epoch 8/50\n",
      "655/655 [==============================] - 222s 340ms/step - loss: 0.2208 - accuracy: 0.9066 - val_loss: 0.2409 - val_accuracy: 0.8988\n",
      "Epoch 9/50\n",
      "655/655 [==============================] - ETA: 0s - loss: 0.2173 - accuracy: 0.9084INFO:tensorflow:Assets written to: ./Model_callback/models/2L-LSTM128_128/assets\n",
      "655/655 [==============================] - 247s 378ms/step - loss: 0.2173 - accuracy: 0.9084 - val_loss: 0.2342 - val_accuracy: 0.9025\n",
      "Epoch 10/50\n",
      "655/655 [==============================] - ETA: 0s - loss: 0.2143 - accuracy: 0.9096INFO:tensorflow:Assets written to: ./Model_callback/models/2L-LSTM128_128/assets\n",
      "655/655 [==============================] - 247s 377ms/step - loss: 0.2143 - accuracy: 0.9096 - val_loss: 0.2329 - val_accuracy: 0.9023\n",
      "Epoch 11/50\n",
      "655/655 [==============================] - 222s 339ms/step - loss: 0.2115 - accuracy: 0.9110 - val_loss: 0.2347 - val_accuracy: 0.9014\n",
      "Epoch 12/50\n",
      "655/655 [==============================] - 222s 339ms/step - loss: 0.2088 - accuracy: 0.9122 - val_loss: 0.2336 - val_accuracy: 0.9031\n",
      "Epoch 13/50\n",
      "655/655 [==============================] - 223s 340ms/step - loss: 0.2061 - accuracy: 0.9135 - val_loss: 0.2364 - val_accuracy: 0.9024\n",
      "Epoch 14/50\n",
      "655/655 [==============================] - 222s 339ms/step - loss: 0.2039 - accuracy: 0.9144 - val_loss: 0.2406 - val_accuracy: 0.9007\n",
      "Epoch 15/50\n",
      "655/655 [==============================] - 222s 339ms/step - loss: 0.2017 - accuracy: 0.9154 - val_loss: 0.2382 - val_accuracy: 0.9021\n"
     ]
    }
   ],
   "source": [
    "model = Initial_model((X_test_indixes[0].shape), word_to_vec_map, word_to_index)\n",
    "model.summary()\n",
    "\n",
    "my_callbacks = [callbacks.ModelCheckpoint(filepath=\"./Model_callback/models/2L-LSTM128_128\",\n",
    "                                          monitor='val_loss',\n",
    "                                          mode='auto',\n",
    "                                          save_best_only= True),\n",
    "                callbacks.CSVLogger(\"./Model_callback/logger/2L-LSTM128_128\"), \n",
    "                callbacks.EarlyStopping(monitor=\"val_loss\",patience=5)]\n",
    "\n",
    "opt = Adam() \n",
    "model.compile(loss='binary_crossentropy', metrics=['accuracy'], optimizer = opt)\n",
    "history_2L_LSTM128_128 = model.fit(X_train_indixes, Y_oh_train, epochs = 50, batch_size = 8192, \n",
    "                                            validation_split =  0.02, shuffle=True, callbacks=my_callbacks)"
   ]
  },
  {
   "cell_type": "code",
   "execution_count": 34,
   "id": "436f8cfe",
   "metadata": {},
   "outputs": [
    {
     "data": {
      "text/plain": [
       "<matplotlib.legend.Legend at 0x7f54e45857b8>"
      ]
     },
     "execution_count": 34,
     "metadata": {},
     "output_type": "execute_result"
    },
    {
     "data": {
      "image/png": "[encoded data removed]",
      "text/plain": [
       "<Figure size 432x288 with 1 Axes>"
      ]
     },
     "metadata": {
      "needs_background": "light"
     },
     "output_type": "display_data"
    }
   ],
   "source": [
    "plt.plot(history_2L_LSTM128_128.history['loss'])\n",
    "plt.plot(history_2L_LSTM128_128.history['val_loss'])\n",
    "plt.title('2L-LSTM-128_128 validation loss')\n",
    "plt.ylabel('loss')\n",
    "plt.xlabel('epoch')\n",
    "plt.legend(['loss', 'val_loss'], loc='upper right')"
   ]
  },
  {
   "cell_type": "code",
   "execution_count": 35,
   "id": "fbff29f7",
   "metadata": {},
   "outputs": [
    {
     "data": {
      "image/png": "[encoded data removed]",
      "text/plain": [
       "<Figure size 432x288 with 1 Axes>"
      ]
     },
     "metadata": {
      "needs_background": "light"
     },
     "output_type": "display_data"
    }
   ],
   "source": [
    "plt.plot(history_2L_LSTM128_128.history['accuracy'])\n",
    "plt.plot(history_2L_LSTM128_128.history['val_accuracy'])\n",
    "plt.title('2L-LSTM-128_128 validation accuracy')\n",
    "plt.ylabel('loss')\n",
    "plt.xlabel('epoch')\n",
    "plt.legend(['accuracy', 'val_accuracy'], loc='lower right')\n",
    "plt.show()"
   ]
  },
  {
   "cell_type": "code",
   "execution_count": 9,
   "id": "f679468c",
   "metadata": {},
   "outputs": [
    {
     "name": "stdout",
     "output_type": "stream",
     "text": [
      "171060/171060 [==============================] - 1068s 6ms/step - loss: 0.2025 - accuracy: 0.9147\n",
      "\n",
      "Accurary on train set =  0.9146613478660583\n",
      "3125/3125 [==============================] - 20s 6ms/step - loss: 0.2357 - accuracy: 0.9014\n",
      "\n",
      "Accurary on test set =  0.901390016078949\n"
     ]
    }
   ],
   "source": [
    "loss, acc = model.evaluate(X_train_indixes, Y_oh_train)\n",
    "print()\n",
    "print(\"Accurary on train set = \", acc)\n",
    "\n",
    "loss, acc = model.evaluate(X_test_indixes, Y_oh_test)\n",
    "print()\n",
    "print(\"Accurary on test set = \", acc)"
   ]
  },
  {
   "cell_type": "markdown",
   "id": "9edd8e3d",
   "metadata": {},
   "source": [
    "# 3Layer LSTMs 128_128_64"
   ]
  },
  {
   "cell_type": "code",
   "execution_count": 10,
   "id": "155e9472",
   "metadata": {},
   "outputs": [],
   "source": [
    "def Initial_model(input_shape, word_to_vec_map, word_to_index):\n",
    "\n",
    "    # Define sentence_indices as the input of the graph.\n",
    "    sentence_indices = Input(shape = (input_shape), dtype = \"int32\")\n",
    "    \n",
    "    # Create the embedding layer pretrained with GloVe Vectors\n",
    "    embedding_layer = pretrained_embedding_layer(word_to_vec_map, word_to_index)\n",
    "    \n",
    "    # Propagate sentence_indices through embedding layer\n",
    "    embeddings = embedding_layer(sentence_indices)  \n",
    "    \n",
    "    # Propagate the embeddings through the first bidirectional LSTM layer with 128 hiden unit each\n",
    "    # The returned output is a batch of sequences.\n",
    "    X = Bidirectional(LSTM(128, return_sequences = True))(embeddings)\n",
    "    \n",
    "    # Propagate X through the Dropout layer with 0.3 Porp\n",
    "    X = Dropout(rate = 0.3)(X)\n",
    "\n",
    "    # Propagate X through the BatchNormalization layer\n",
    "    X = BatchNormalization()(X)\n",
    "    \n",
    "    # Propagate the embeddings through the first bidirectional LSTM layer with 128 hiden unit each\n",
    "    # The returned output is a batch of sequences.\n",
    "    X = Bidirectional(LSTM(128, return_sequences = True))(X)\n",
    "    \n",
    "    # Propagate X through the Dropout layer with 0.3 Porp\n",
    "    X = Dropout(rate = 0.3)(X)\n",
    "\n",
    "    # Propagate X through the BatchNormalization layer\n",
    "    X = BatchNormalization()(X)\n",
    "    \n",
    "    # Propagate the embeddings through the first bidirectional LSTM layer with 128 hiden unit each\n",
    "    # The returned output is a batch of sequences.\n",
    "    X = Bidirectional(LSTM(64, return_sequences = False))(X)\n",
    "    \n",
    "    # Propagate X through the Dropout layer with 0.3 Porp\n",
    "    X = Dropout(rate = 0.3)(X)\n",
    "    \n",
    "    # Propagate X through a Dense layer into 2 units\n",
    "    X = Dense(2, activation = \"sigmoid\")(X)\n",
    "    \n",
    "    # Create Model instance which converts sentence_indices into X.\n",
    "    model = Model(inputs = sentence_indices, outputs = X)\n",
    "    \n",
    "    return model"
   ]
  },
  {
   "cell_type": "code",
   "execution_count": 11,
   "id": "6c8d842b",
   "metadata": {},
   "outputs": [
    {
     "name": "stdout",
     "output_type": "stream",
     "text": [
      "Model: \"functional_1\"\n",
      "_________________________________________________________________\n",
      "Layer (type)                 Output Shape              Param #   \n",
      "=================================================================\n",
      "input_1 (InputLayer)         [(None, 50)]              0         \n",
      "_________________________________________________________________\n",
      "embedding_1 (Embedding)      (None, 50, 300)           120000300 \n",
      "_________________________________________________________________\n",
      "bidirectional (Bidirectional (None, 50, 256)           439296    \n",
      "_________________________________________________________________\n",
      "dropout (Dropout)            (None, 50, 256)           0         \n",
      "_________________________________________________________________\n",
      "batch_normalization (BatchNo (None, 50, 256)           1024      \n",
      "_________________________________________________________________\n",
      "bidirectional_1 (Bidirection (None, 50, 256)           394240    \n",
      "_________________________________________________________________\n",
      "dropout_1 (Dropout)          (None, 50, 256)           0         \n",
      "_________________________________________________________________\n",
      "batch_normalization_1 (Batch (None, 50, 256)           1024      \n",
      "_________________________________________________________________\n",
      "bidirectional_2 (Bidirection (None, 128)               164352    \n",
      "_________________________________________________________________\n",
      "dropout_2 (Dropout)          (None, 128)               0         \n",
      "_________________________________________________________________\n",
      "dense (Dense)                (None, 2)                 258       \n",
      "=================================================================\n",
      "Total params: 121,000,494\n",
      "Trainable params: 999,170\n",
      "Non-trainable params: 120,001,324\n",
      "_________________________________________________________________\n",
      "Epoch 1/50\n",
      "655/655 [==============================] - ETA: 0s - loss: 0.3130 - accuracy: 0.8602WARNING:tensorflow:From /home/pai/lib/python3.6/site-packages/tensorflow/python/training/tracking/tracking.py:111: Model.state_updates (from tensorflow.python.keras.engine.training) is deprecated and will be removed in a future version.\n",
      "Instructions for updating:\n",
      "This property should not be used in TensorFlow 2.0, as updates are applied automatically.\n",
      "WARNING:tensorflow:From /home/pai/lib/python3.6/site-packages/tensorflow/python/training/tracking/tracking.py:111: Layer.updates (from tensorflow.python.keras.engine.base_layer) is deprecated and will be removed in a future version.\n",
      "Instructions for updating:\n",
      "This property should not be used in TensorFlow 2.0, as updates are applied automatically.\n",
      "INFO:tensorflow:Assets written to: ./Model_callback/models/3L-LSTM128_128_64/assets\n",
      "655/655 [==============================] - 319s 487ms/step - loss: 0.3130 - accuracy: 0.8602 - val_loss: 0.2696 - val_accuracy: 0.8830\n",
      "Epoch 2/50\n",
      "655/655 [==============================] - ETA: 0s - loss: 0.2618 - accuracy: 0.8870INFO:tensorflow:Assets written to: ./Model_callback/models/3L-LSTM128_128_64/assets\n",
      "655/655 [==============================] - 317s 483ms/step - loss: 0.2618 - accuracy: 0.8870 - val_loss: 0.2498 - val_accuracy: 0.8932\n",
      "Epoch 3/50\n",
      "655/655 [==============================] - ETA: 0s - loss: 0.2474 - accuracy: 0.8939INFO:tensorflow:Assets written to: ./Model_callback/models/3L-LSTM128_128_64/assets\n",
      "655/655 [==============================] - 316s 483ms/step - loss: 0.2474 - accuracy: 0.8939 - val_loss: 0.2429 - val_accuracy: 0.8968\n",
      "Epoch 4/50\n",
      "655/655 [==============================] - ETA: 0s - loss: 0.2386 - accuracy: 0.8982INFO:tensorflow:Assets written to: ./Model_callback/models/3L-LSTM128_128_64/assets\n",
      "655/655 [==============================] - 316s 482ms/step - loss: 0.2386 - accuracy: 0.8982 - val_loss: 0.2379 - val_accuracy: 0.8997\n",
      "Epoch 5/50\n",
      "655/655 [==============================] - ETA: 0s - loss: 0.2321 - accuracy: 0.9014INFO:tensorflow:Assets written to: ./Model_callback/models/3L-LSTM128_128_64/assets\n",
      "655/655 [==============================] - 316s 483ms/step - loss: 0.2321 - accuracy: 0.9014 - val_loss: 0.2348 - val_accuracy: 0.9018\n",
      "Epoch 6/50\n",
      "655/655 [==============================] - 280s 427ms/step - loss: 0.2270 - accuracy: 0.9038 - val_loss: 0.2366 - val_accuracy: 0.9002\n",
      "Epoch 7/50\n",
      "655/655 [==============================] - ETA: 0s - loss: 0.2226 - accuracy: 0.9057INFO:tensorflow:Assets written to: ./Model_callback/models/3L-LSTM128_128_64/assets\n",
      "655/655 [==============================] - 316s 482ms/step - loss: 0.2226 - accuracy: 0.9057 - val_loss: 0.2336 - val_accuracy: 0.9018\n",
      "Epoch 8/50\n",
      "655/655 [==============================] - ETA: 0s - loss: 0.2189 - accuracy: 0.9075INFO:tensorflow:Assets written to: ./Model_callback/models/3L-LSTM128_128_64/assets\n",
      "655/655 [==============================] - 315s 481ms/step - loss: 0.2189 - accuracy: 0.9075 - val_loss: 0.2310 - val_accuracy: 0.9038\n",
      "Epoch 9/50\n",
      "655/655 [==============================] - ETA: 0s - loss: 0.2157 - accuracy: 0.9091INFO:tensorflow:Assets written to: ./Model_callback/models/3L-LSTM128_128_64/assets\n",
      "655/655 [==============================] - 316s 482ms/step - loss: 0.2157 - accuracy: 0.9091 - val_loss: 0.2287 - val_accuracy: 0.9034\n",
      "Epoch 10/50\n",
      "655/655 [==============================] - 279s 427ms/step - loss: 0.2125 - accuracy: 0.9105 - val_loss: 0.2294 - val_accuracy: 0.9039\n",
      "Epoch 11/50\n",
      "655/655 [==============================] - 280s 427ms/step - loss: 0.2098 - accuracy: 0.9118 - val_loss: 0.2293 - val_accuracy: 0.9048\n",
      "Epoch 12/50\n",
      "655/655 [==============================] - 280s 427ms/step - loss: 0.2074 - accuracy: 0.9131 - val_loss: 0.2401 - val_accuracy: 0.9010\n",
      "Epoch 13/50\n",
      "655/655 [==============================] - 279s 427ms/step - loss: 0.2048 - accuracy: 0.9141 - val_loss: 0.2350 - val_accuracy: 0.9042\n",
      "Epoch 14/50\n",
      "655/655 [==============================] - 279s 427ms/step - loss: 0.2026 - accuracy: 0.9152 - val_loss: 0.2334 - val_accuracy: 0.9041\n"
     ]
    }
   ],
   "source": [
    "model = Initial_model((X_test_indixes[0].shape), word_to_vec_map, word_to_index)\n",
    "model.summary()\n",
    "\n",
    "my_callbacks = [callbacks.ModelCheckpoint(filepath=\"./Model_callback/models/3L-LSTM128_128_64\",\n",
    "                                          monitor='val_loss',\n",
    "                                          mode='auto',\n",
    "                                          save_best_only= True),\n",
    "                callbacks.CSVLogger(\"./Model_callback/logger/32L-LSTM128_128_64\"), \n",
    "                callbacks.EarlyStopping(monitor=\"val_loss\",patience=5)]\n",
    "\n",
    "opt = Adam() \n",
    "model.compile(loss='binary_crossentropy', metrics=['accuracy'], optimizer = opt)\n",
    "history_3L_LSTM128_128_64 = model.fit(X_train_indixes, Y_oh_train, epochs = 50, batch_size = 8192, \n",
    "                                            validation_split =  0.02, shuffle=True, callbacks=my_callbacks)"
   ]
  },
  {
   "cell_type": "code",
   "execution_count": 12,
   "id": "0e653554",
   "metadata": {},
   "outputs": [
    {
     "data": {
      "text/plain": [
       "<matplotlib.legend.Legend at 0x7f8b187d7e10>"
      ]
     },
     "execution_count": 12,
     "metadata": {},
     "output_type": "execute_result"
    },
    {
     "data": {
      "image/png": "[encoded data removed]",
      "text/plain": [
       "<Figure size 432x288 with 1 Axes>"
      ]
     },
     "metadata": {
      "needs_background": "light"
     },
     "output_type": "display_data"
    }
   ],
   "source": [
    "plt.plot(history_3L_LSTM128_128_64.history['loss'])\n",
    "plt.plot(history_3L_LSTM128_128_64.history['val_loss'])\n",
    "plt.title('3L_LSTM128_128_64 validation loss')\n",
    "plt.ylabel('loss')\n",
    "plt.xlabel('epoch')\n",
    "plt.legend(['loss', 'val_loss'], loc='upper right')"
   ]
  },
  {
   "cell_type": "code",
   "execution_count": 13,
   "id": "4a2c80e9",
   "metadata": {},
   "outputs": [
    {
     "data": {
      "image/png": "[encoded data removed]",
      "text/plain": [
       "<Figure size 432x288 with 1 Axes>"
      ]
     },
     "metadata": {
      "needs_background": "light"
     },
     "output_type": "display_data"
    }
   ],
   "source": [
    "plt.plot(history_3L_LSTM128_128_64.history['accuracy'])\n",
    "plt.plot(history_3L_LSTM128_128_64.history['val_accuracy'])\n",
    "plt.title('3L_LSTM128_128_64 validation accuracy')\n",
    "plt.ylabel('loss')\n",
    "plt.xlabel('epoch')\n",
    "plt.legend(['accuracy', 'val_accuracy'], loc='lower right')\n",
    "plt.show()"
   ]
  },
  {
   "cell_type": "code",
   "execution_count": 14,
   "id": "a870c1be",
   "metadata": {},
   "outputs": [
    {
     "name": "stdout",
     "output_type": "stream",
     "text": [
      "171060/171060 [==============================] - 1463s 9ms/step - loss: 0.1894 - accuracy: 0.9212\n",
      "\n",
      "Accurary on train set =  0.9211581349372864\n",
      "3125/3125 [==============================] - 27s 9ms/step - loss: 0.2354 - accuracy: 0.9032\n",
      "\n",
      "Accurary on test set =  0.903219997882843\n"
     ]
    }
   ],
   "source": [
    "loss, acc = model.evaluate(X_train_indixes, Y_oh_train)\n",
    "print()\n",
    "print(\"Accurary on train set = \", acc)\n",
    "\n",
    "loss, acc = model.evaluate(X_test_indixes, Y_oh_test)\n",
    "print()\n",
    "print(\"Accurary on test set = \", acc)"
   ]
  },
  {
   "cell_type": "code",
   "execution_count": null,
   "id": "723182fe",
   "metadata": {},
   "outputs": [],
   "source": []
  }
 ],
 "metadata": {
  "kernelspec": {
   "display_name": "Python 3",
   "language": "python",
   "name": "python3"
  },
  "language_info": {
   "codemirror_mode": {
    "name": "ipython",
    "version": 3
   },
   "file_extension": ".py",
   "mimetype": "text/x-python",
   "name": "python",
   "nbconvert_exporter": "python",
   "pygments_lexer": "ipython3",
   "version": "3.8.5"
  }
 },
 "nbformat": 4,
 "nbformat_minor": 5
}
